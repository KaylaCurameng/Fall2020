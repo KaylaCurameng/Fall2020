{
 "cells": [
  {
   "cell_type": "markdown",
   "metadata": {},
   "source": [
    "# UCB CE170A Assignment 1 : Structural Analysis of a Model Bridge using a Python code\n",
    "v1 - Fall 2020: Prof.Soga, Renjie Wu  "
   ]
  },
  {
   "cell_type": "markdown",
   "metadata": {},
   "source": [
    "# Background\n",
    "\n",
    "<img src=\"https://github.com/UCB-CE170a/Fall2020/blob/master/homeworks/hw1/images/figure0.png\" alt=\"A bridge.\" width=\"600\" />\n",
    "\n",
    "\n",
    "In the sensor module scheduled later on in the semester, we will be instrumenting a model bridge and testing it to failure. A photo and schematic diagram of the model bridge is shown in Fig. 1. The model consists of two identical 2D frames placed in parallel and connected by diagonal and horizonal braces (Pink lines). A vertical load will be applied at the top two nodes using a load spreader frame (light Blue). In the experiment, the model bridge will be placed between two rigid supports as shown in Fig. 2. \n",
    "\n",
    "The bridge is made of stainless steel angle bars and sheets as shown in Fig. 3. The angle bar has a dimension of ½ inch x ½ inch x 3/80 inch (thickness). Two angle bars are used for the top four frame members (Yellow lines in Fig. 1 or L2&L3 in Fig. 2), whereas one angle bar is used for the other members (Red, Blue and Pink lines in Fig. 1 or L4&L5 in Fig. 2). The Young’s modulus and yield strength of the angle bar are 190 GPa and 350 MPa, respectively. The members are connected by rivets. \n",
    "\n",
    "The design details of the model bridge are given in Fig. 4."
   ]
  },
  {
   "cell_type": "code",
   "execution_count": 1,
   "metadata": {},
   "outputs": [],
   "source": [
    "\n",
    "# <center><figure>\n",
    "#     <a href=\"https://github.com/UCB-CE170a/Fall2020/blob/master/homeworks/hw1/images/figure0.png\">\n",
    "#    <img src=\"images/figure0.png\" width=\"600\" alt=\"A bridge.\" /></a>\n",
    "#    <figcaption> A example bridge .\n",
    "#    </figcaption>\n",
    "# </figure></center>"
   ]
  },
  {
   "cell_type": "markdown",
   "metadata": {},
   "source": [
    "# Q1:\n",
    "Quiz 2 - A working load of 3500 N is applied to the model structure. Using a simplified 2D model shown in Fig. 5, perform a hand calculation of the bar forces and strains under the given load for load carrying sections, L1, L2 and L3. What is the role of bracing sections L4, L5, T1, T2, T3, T4 and T5?  Estimate the displacement at the top nodes."
   ]
  },
  {
   "cell_type": "markdown",
   "metadata": {},
   "source": [
    "<span style=\"color:blue\">A: (Your Answer)</span>"
   ]
  },
  {
   "cell_type": "markdown",
   "metadata": {},
   "source": [
    "# Q2:\n",
    "Use Python code Trusspy to model the 3D model bridge. Plot the following with increasing load. Also check whether the results match to the load/strains/displacement calculated in Q1\n"
   ]
  },
  {
   "cell_type": "markdown",
   "metadata": {},
   "source": [
    "## Q2 a): Strains and rotations in element L2\n",
    "\n",
    "## Q2 b): Expected expansion of element L1\n",
    "\n",
    "## Q2 c): Expected loads in braces. L4, L5 and Ts.\n",
    "\n",
    "\n",
    "\n"
   ]
  },
  {
   "cell_type": "markdown",
   "metadata": {},
   "source": [
    "# Q3: \n",
    "\n",
    "The actual model will have some imperfections. One possible imperfection is that the four ends are not perfectly horizontally leveled. To examine this effect, place a vertical spring at one of the roller ends in your 3D model, as shown in Fig. 6. Plot the following with increasing load on the plots you created in question 2. Try different spring stiffness values (softer one represents more imperfection)."
   ]
  },
  {
   "cell_type": "markdown",
   "metadata": {},
   "source": [
    "## Q3 a): Strains and rotations in element L2, L3\n",
    "\n",
    "## Q3 b): Expected expansion of element L1\n",
    "\n",
    "## Q3 c): Expected loads in braces L4, L5 and Ts.\n",
    "\n",
    "\n",
    "\n",
    "\n"
   ]
  },
  {
   "cell_type": "markdown",
   "metadata": {},
   "source": [
    "# Q4:\n",
    "t is designed to carry loads without collapse at this working load and the factor of safety to collapse is FS>2.0. Discuss possible failure mechanisms of the model bridge (see Fig. 6 for possible structural failures)."
   ]
  },
  {
   "cell_type": "code",
   "execution_count": null,
   "metadata": {},
   "outputs": [],
   "source": []
  }
 ],
 "metadata": {
  "kernelspec": {
   "display_name": "Python 3",
   "language": "python",
   "name": "python3"
  },
  "language_info": {
   "codemirror_mode": {
    "name": "ipython",
    "version": 3
   },
   "file_extension": ".py",
   "mimetype": "text/x-python",
   "name": "python",
   "nbconvert_exporter": "python",
   "pygments_lexer": "ipython3",
   "version": "3.6.8"
  }
 },
 "nbformat": 4,
 "nbformat_minor": 2
}
