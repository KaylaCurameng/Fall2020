{
  "nbformat": 4,
  "nbformat_minor": 0,
  "metadata": {
    "colab": {
      "name": "quiz3_student.ipynb",
      "provenance": [],
      "toc_visible": true
    },
    "kernelspec": {
      "display_name": "Python 3",
      "language": "python",
      "name": "python3"
    },
    "language_info": {
      "codemirror_mode": {
        "name": "ipython",
        "version": 3
      },
      "file_extension": ".py",
      "mimetype": "text/x-python",
      "name": "python",
      "nbconvert_exporter": "python",
      "pygments_lexer": "ipython3",
      "version": "3.7.7"
    }
  },
  "cells": [
    {
      "cell_type": "markdown",
      "metadata": {
        "colab_type": "text",
        "id": "Fqns2t-GGpTH"
      },
      "source": [
        "# Introduction"
      ]
    },
    {
      "cell_type": "code",
      "metadata": {
        "colab_type": "code",
        "id": "1xisvFAVGdM5",
        "colab": {}
      },
      "source": [
        "# retrieve the sp code for shortest path calculation\n",
        "!rm -rf sp && mkdir sp\n",
        "!wget \"https://github.com/UCB-CE170a/Fall2020/raw/master/traffic_data/liblsp.so\" -O sp/liblsp.so\n",
        "!wget \"https://raw.githubusercontent.com/UCB-CE170a/Fall2020/master/traffic_data/interface.py\" -O sp/interface.py\n",
        "\n",
        "# retrieve the road network and demand inputs\n",
        "!rm -rf traffic_inputs && mkdir traffic_inputs\n",
        "!wget \"https://raw.githubusercontent.com/UCB-CE170a/Fall2020/master/traffic_data/berkeley_edges.csv\" -O traffic_inputs/berkeley_edges.csv\n",
        "!wget \"https://raw.githubusercontent.com/UCB-CE170a/Fall2020/master/traffic_data/berkeley_nodes.csv\" -O traffic_inputs/berkeley_nodes.csv\n",
        "!wget \"https://raw.githubusercontent.com/UCB-CE170a/Fall2020/master/traffic_data/od_10pn.csv\" -O traffic_inputs/od_10pn.csv"
      ],
      "execution_count": null,
      "outputs": []
    },
    {
      "cell_type": "code",
      "metadata": {
        "colab_type": "code",
        "id": "B8aVRUmSHF8d",
        "colab": {}
      },
      "source": [
        "import pandas as pd\n",
        "from sp import interface"
      ],
      "execution_count": null,
      "outputs": []
    },
    {
      "cell_type": "code",
      "metadata": {
        "colab_type": "code",
        "id": "YOBSDqHgHL9V",
        "colab": {}
      },
      "source": [
        "# read network files\n",
        "edges_df = pd.read_csv('traffic_inputs/berkeley_edges.csv')\n",
        "display(edges_df.head(2))\n",
        "nodes_df = pd.read_csv('traffic_inputs/berkeley_nodes.csv')\n",
        "display(nodes_df.head(2))\n",
        "\n",
        "# read travel demand (origin-destination) files\n",
        "od_df = pd.read_csv('traffic_inputs/od_10pn.csv')\n",
        "display(od_df.head(2))\n",
        "\n",
        "### make road network graph\n",
        "g = interface.from_dataframe(edges_df, 'start_node_id', 'end_node_id', 'fft')\n",
        "\n",
        "### create dictionaries between node_id and link_id for quick lookup\n",
        "endnode2link_dict = {(getattr(link, 'start_node_id'), getattr(link, 'end_node_id')): getattr(link, 'link_id') for link in edges_df.itertuples()}\n",
        "link2endnode_dict = {getattr(link, 'link_id'): (getattr(link, 'start_node_id'), getattr(link, 'end_node_id')) for link in edges_df.itertuples()}\n",
        "\n",
        "# define a helper function to retrieve and format the shortest path between an origin-destination pair\n",
        "def get_path(origin, destin):\n",
        "    \"\"\"\n",
        "    Retrieving the shortest path between a given origin-destination pair.\n",
        "\n",
        "    Parameters:\n",
        "    origin (int): origin node id\n",
        "    destin (int): destination node id\n",
        "    endnode2link_dict (dict): a dictionary that maps the start and end node to the link id\n",
        "\n",
        "    Returns:\n",
        "    route (list of int): the shortest path, represented by a list of ids of the links that form the path\n",
        "    sp_dist (float): the shortest path distance\n",
        "    \"\"\"\n",
        "    ### retrieve shortest path between the origin and destination nodes using Dijkstra's Algorithm\n",
        "    sp = g.dijkstra(origin, destin)\n",
        "    ### calculate the path distance\n",
        "    sp_dist = sp.distance(destin)\n",
        "\n",
        "    if sp_dist > 1e8:\n",
        "        ### if path does not exist between the origin and destination, it will return a very high distance value\n",
        "        route = []\n",
        "    else:\n",
        "        ### otherwise, a path is found. We will convert them into a list of links, where each element is the id of the link\n",
        "        route = [endnode2link_dict[(start_node_id, end_node_id)] for (start_node_id, end_node_id) in sp.route(destin)]\n",
        "    sp.clear()\n",
        "    \n",
        "    return route, sp_dist"
      ],
      "execution_count": null,
      "outputs": []
    },
    {
      "cell_type": "markdown",
      "metadata": {
        "id": "5Hi7S0QQI6J0",
        "colab_type": "text"
      },
      "source": [
        "Below is an example of computing the shortest path for one od pair, e.g., the path from node 91 to node 237.\n",
        "\n",
        "- The `get_path()` function takes the input returns: (1) the shortest path between each od pair as a list, and (2) the shortest path distance. In the first return value, each list element denotes a road link by its id. For instance, in the example here, the path from node 91 and node 237 is `[747, 266, 198, 39, 41, 34, 110, 189, 18, 219, 827]`. Its first element `747` denotes a road link that connects node 91 and node 155.\n",
        "- The `traffic_volume_dictionary` is a dictionary-type variable that we use to count the traffic volume on each link. This dictionary's keys are road ids and values are number of trips (i.e., traffic volumes) that use each link. Since the dictionary is initiated to be empty, we use a `try ... except ...` block to update it. If `try ...` fails, it means that the particular road link id has not been added to the dictionary yet, so we will move on to the `except ...` clause and create a new key in the dictionary corresponding to the link id."
      ]
    },
    {
      "cell_type": "code",
      "metadata": {
        "colab_type": "code",
        "id": "C72sURTmHzy1",
        "colab": {}
      },
      "source": [
        "### example of path calculation\n",
        "origin = 91      ### the origin node id of a trip\n",
        "destin = 237     ### the end node id of a trip\n",
        "route, distance = get_path(origin, destin) ### get the shortest path between the origin and destination of the trip\n",
        "print('The shortest path between {} and {} is {}'.format(origin, destin, route))\n",
        "print('The path/route object is a {}, the first elment is {}'.format(type(route), route[0]))\n",
        "print('The trip travel time is {:.2f} minutes.\\n'.format(distance/60))\n",
        "\n",
        "### example of traffic volume calculation\n",
        "traffic_volume_dictionary = dict()\n",
        "for path_link in route:\n",
        "  try:\n",
        "    traffic_volume_dictionary[path_link] += 1\n",
        "  except KeyError:\n",
        "    traffic_volume_dictionary[path_link] = 1\n",
        "\n",
        "print( 'Link {}, connecting node {} and {}, has {} trip(s) passed through it (so far)'.format( 747, link2endnode_dict[747][0], link2endnode_dict[747][1], traffic_volume_dictionary[747] ) )\n",
        "\n",
        "### example of converting dictionary to dataframe that contains traffic volume for each road link\n",
        "traffic_volume_df = pd.DataFrame(list(traffic_volume_dictionary.items()), columns=['link_id', 'volume'])\n",
        "traffic_volume_df.head()"
      ],
      "execution_count": null,
      "outputs": []
    },
    {
      "cell_type": "markdown",
      "metadata": {
        "colab_type": "text",
        "id": "EXhapYZyJPNR"
      },
      "source": [
        "\n",
        "Given the inputs (`edges_df`, `nodes_df`, `od_df`, `g`, and the `get_path` fuction),\n",
        "- Task 1: calculate the path for each od pair\n",
        "- Task 2: compute the number of trips that pass each link (i.e., traffic volume on this link)\n",
        "- Task 3: save the result of Task 2 in a CSV file `quiz3_[your_name].csv`. The file should look like:\n",
        "\n",
        "| link_id | volume      |\n",
        "|---------|-------------|\n",
        "| 0       | ...         |\n",
        "| 1       | ...         |\n",
        "| ...     | ...         |\n",
        "\n",
        "Hints:\n",
        "- Task 1: Loop through the `od` dictionary and use the `get_path()` function in the code block above to compute the path for each od pair. The `get_path()` function is reusable, so you just need to call it and no need to define it every time you compute the path.\n",
        "- Task 2: Initiate an empty `trffic_volume_dictionary` outside of the loop that iterates through each od pair. The key of the dictionary should be link_id (e.g., `747`), and the value corresponding to each key denotes the traffic volume on this link. While iterating through the od pairs, whenever a link is being used (e.g., whenever a new path is computed, and `747` is in the path), update the corresponding dictionary value by adding one, to represent that there is one more trip using the link.\n",
        "- Beware that links are directed, meaning that link with end nodes `(91, 155)` is different from link whose end nodes are `(155, 91)`.\n",
        "- **The method in the hints above are not the most efficient. It is just one way to complete the tasks. If you are comfortable of other ways, e.g., using Pandas groupby and merge functions, please choose a method that works the best for you.**"
      ]
    },
    {
      "cell_type": "code",
      "metadata": {
        "colab_type": "code",
        "id": "OiLy4xW2Izbh",
        "colab": {}
      },
      "source": [
        "### YOUR CODE HERE ###\n",
        "### create a dataframe that counts the traffic volume on each road link under the given travel demand\n",
        "### name the output file as \"quiz3_[your_name].csv\"\n",
        "\n",
        "your_name = '' ### your name here\n",
        "traffic_volume_df.to_csv('quiz3_{}.csv'.format(your_name), index=False)"
      ],
      "execution_count": null,
      "outputs": []
    }
  ]
}