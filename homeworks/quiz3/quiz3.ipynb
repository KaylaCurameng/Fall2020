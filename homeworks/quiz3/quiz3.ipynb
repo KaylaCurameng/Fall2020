{
  "nbformat": 4,
  "nbformat_minor": 0,
  "metadata": {
    "colab": {
      "name": "quiz3.ipynb",
      "provenance": [],
      "toc_visible": true
    },
    "kernelspec": {
      "name": "python3",
      "display_name": "Python 3"
    }
  },
  "cells": [
    {
      "cell_type": "markdown",
      "metadata": {
        "id": "Fqns2t-GGpTH",
        "colab_type": "text"
      },
      "source": [
        "# Introduction"
      ]
    },
    {
      "cell_type": "code",
      "metadata": {
        "id": "1xisvFAVGdM5",
        "colab_type": "code",
        "colab": {}
      },
      "source": [
        "# retrieve the sp code\n",
        "!rm -rf sp && mkdir sp\n",
        "!wget \"https://github.com/UCB-CE170a/Fall2020/raw/master/traffic_data/liblsp.so\" -O sp/liblsp.so\n",
        "!wget \"https://raw.githubusercontent.com/UCB-CE170a/Fall2020/master/traffic_data/interface.py\" -O sp/interface.py\n",
        "\n",
        "# retrieve the road network and demand inputs\n",
        "!rm -rf traffic_inputs && mkdir traffic_inputs\n",
        "!wget \"https://raw.githubusercontent.com/UCB-CE170a/Fall2020/master/traffic_data/north_berkeley_edges_clean.csv\" -O traffic_inputs/berkeley_edges.csv\n",
        "!wget \"https://raw.githubusercontent.com/UCB-CE170a/Fall2020/master/traffic_data/north_berkeley_nodes_clean.csv\" -O traffic_inputs/berkeley_nodes.csv\n",
        "!wget \"https://raw.githubusercontent.com/UCB-CE170a/Fall2020/master/traffic_data/od_10pn.csv\" -O traffic_inputs/od_10pn.csv"
      ],
      "execution_count": null,
      "outputs": []
    },
    {
      "cell_type": "code",
      "metadata": {
        "id": "B8aVRUmSHF8d",
        "colab_type": "code",
        "colab": {}
      },
      "source": [
        "import pandas as pd\n",
        "from sp import interface"
      ],
      "execution_count": null,
      "outputs": []
    },
    {
      "cell_type": "code",
      "metadata": {
        "id": "YOBSDqHgHL9V",
        "colab_type": "code",
        "colab": {}
      },
      "source": [
        "# read network files\n",
        "edges_df = pd.read_csv('traffic_inputs/berkeley_edges.csv')\n",
        "display(edges_df.head(2))\n",
        "nodes_df = pd.read_csv('traffic_inputs/berkeley_nodes.csv')\n",
        "display(nodes_df.head(2))\n",
        "\n",
        "# read travel demand (origin-destination) files\n",
        "od_df = pd.read_csv('traffic_inputs/od_10pn.csv')\n",
        "display(od_df.head(2))"
      ],
      "execution_count": null,
      "outputs": []
    },
    {
      "cell_type": "code",
      "metadata": {
        "id": "Lxtmbbj4IB_S",
        "colab_type": "code",
        "colab": {}
      },
      "source": [
        "### make road network graph\n",
        "g = interface.from_dataframe(edges_df, 'start_node_id', 'end_node_id', 'fft')"
      ],
      "execution_count": null,
      "outputs": []
    },
    {
      "cell_type": "code",
      "metadata": {
        "id": "C72sURTmHzy1",
        "colab_type": "code",
        "colab": {}
      },
      "source": [
        "# get path\n",
        "def get_path(origin, destin):\n",
        "    sp = g.dijkstra(origin, destin)\n",
        "    sp_dist = sp.distance(destin)\n",
        "\n",
        "    if sp_dist > 10e7:\n",
        "        route = []\n",
        "    else:\n",
        "        route = [(start_node_id, end_node_id) for (start_node_id, end_node_id) in sp.route(destin)]\n",
        "    sp.clear()\n",
        "    \n",
        "    return route, sp_dist\n",
        "\n",
        "### example of path calculation\n",
        "origin = 354 ### the origin node id of a trip\n",
        "destin = 196 ### the end node id of a trip\n",
        "route, distance = get_path(origin, destin) ### get the shortest path between the origin and destination of the trip\n",
        "print('The shortest path between {} and {} is {}'.format(origin, destin, route))\n",
        "print('The path/route object is a {}, the first elment is {}'.format(type(route), route[0]))\n",
        "print('The trip travel time is {:.2f} minutes.'.format(distance/60))\n",
        "\n",
        "### example of traffic volume calculation\n",
        "traffic_volume_dictionary = dict()\n",
        "for path_link in route:\n",
        "  try:\n",
        "    traffic_volume_dictionary[path_link] += 1\n",
        "  except KeyError:\n",
        "    traffic_volume_dictionary[path_link] = 1\n",
        "print( 'The link that connects node 354 and 124 has {} trip(s) passing through it (so far)'.format( traffic_volume_dictionary[ (354, 124) ] ) )\n",
        "print( 'The link_id of the link that connects node 354 and 124 is {}'.format( edges_df.loc[(edges_df['start_node_id']==354) & (edges_df['end_node_id']==124), 'link_id'].values[0] ) )"
      ],
      "execution_count": null,
      "outputs": []
    },
    {
      "cell_type": "markdown",
      "metadata": {
        "id": "EXhapYZyJPNR",
        "colab_type": "text"
      },
      "source": [
        "\n",
        "Given the inputs (`edges_df`, `nodes_df`, `od_df`, `g`, and the `get_path` fuction),\n",
        "- Task 1: calculate the path for each od pair\n",
        "- Task 2: compute the number of trips that pass each link\n",
        "- Task 3: save the result of Task 2 in a CSV file `quiz3_[your_name].csv`. The file should look like:\n",
        "\n",
        "| link_id | volume      |\n",
        "|---------|-------------|\n",
        "| 0       | ...         |\n",
        "| 1       | ...         |\n",
        "| ...     | ...         |\n",
        "\n",
        "Hints:\n",
        "- Loop through the `od` dictionary to compute the path for each od pair;\n",
        "- The path/`route` of each od pair is a list. Each list element denotes a road link by its start and end node id. For example, in the example above, the path between node 354 and node 196 is `[(354, 124), (124, 69), (69, 267), ...]`. Its first element `(354, 124)` denotes the road link that connects node 354 and node 196.\n",
        "- You can use tuple (e.g, `(354, 124)`) as the key in Python dictionary. Whenever a new link is being used (e.g., whenever a new path is computed and `(354, 124)` is in the path), update the corresponding dictionary value by one to count its total usage.\n",
        "- When you are finding the `link_id` of each link based on its start and end node id, beware that links are directed, meaning that link `(354, 124)` is different from link `(124, 354)`.\n",
        "- There are lots of other ways to accomplish the above tasks, e.g., using Pandas groupby and merge functions. Please choose a method that works for you."
      ]
    },
    {
      "cell_type": "code",
      "metadata": {
        "id": "OiLy4xW2Izbh",
        "colab_type": "code",
        "colab": {}
      },
      "source": [
        "### YOUR CODE HERE ###\n",
        "traffic_volume_dictionary = dict()\n",
        "for trip in od_df.iloc[0:100].itertuples():\n",
        "  origin = getattr(trip, 'origin_node_id')\n",
        "  destin = getattr(trip, 'destin_node_id')\n",
        "  route, distance = get_path(origin, destin) \n",
        "\n",
        "  for path_link in route:\n",
        "    try:\n",
        "      traffic_volume_dictionary[path_link] += 1\n",
        "    except KeyError:\n",
        "      traffic_volume_dictionary[path_link] = 1\n",
        "\n",
        "traffic_volume_df = pd.DataFrame([(k[0], k[1], v) for k, v in traffic_volume_dictionary.items()], columns=['start_node_id', 'end_node_id', 'volume'])\n",
        "traffic_volume_df = traffic_volume_df.merge(edges_df[['link_id', 'start_node_id', 'end_node_id']], how='left', on=['start_node_id', 'end_node_id'])\n",
        "traffic_volume_df[['link_id', 'volume']]\n",
        "traffic_volume_df.to_csv('quiz3_bingyu_zhao.csv', index=False)"
      ],
      "execution_count": null,
      "outputs": []
    }
  ]
}