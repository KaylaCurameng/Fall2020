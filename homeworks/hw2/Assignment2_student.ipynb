{
  "nbformat": 4,
  "nbformat_minor": 0,
  "metadata": {
    "colab": {
      "name": "Assignment2_student.ipynb",
      "provenance": [],
      "collapsed_sections": [],
      "toc_visible": true
    },
    "kernelspec": {
      "display_name": "Python 3",
      "language": "python",
      "name": "python3"
    },
    "language_info": {
      "codemirror_mode": {
        "name": "ipython",
        "version": 3
      },
      "file_extension": ".py",
      "mimetype": "text/x-python",
      "name": "python",
      "nbconvert_exporter": "python",
      "pygments_lexer": "ipython3",
      "version": "3.7.7"
    }
  },
  "cells": [
    {
      "cell_type": "markdown",
      "metadata": {
        "colab_type": "text",
        "id": "kLYdY2gNehKd"
      },
      "source": [
        "### Download input files and required modules"
      ]
    },
    {
      "cell_type": "code",
      "metadata": {
        "colab_type": "code",
        "id": "rcGm3BDUYSrB",
        "colab": {}
      },
      "source": [
        "# retrieve the sp code\n",
        "!rm -rf sp && mkdir sp\n",
        "!wget \"https://github.com/UCB-CE170a/Fall2020/raw/master/traffic_data/liblsp.so\" -O sp/liblsp.so\n",
        "!wget \"https://raw.githubusercontent.com/UCB-CE170a/Fall2020/master/traffic_data/interface.py\" -O sp/interface.py\n",
        "\n",
        "# retrieve the spatial queue model\n",
        "!wget \"https://raw.githubusercontent.com/UCB-CE170a/Fall2020/master/traffic_data/queue_model.py\" -O queue_model.py\n",
        "\n",
        "# retrieve the road network\n",
        "!rm -rf traffic_inputs && mkdir traffic_inputs\n",
        "!wget \"https://raw.githubusercontent.com/UCB-CE170a/Fall2020/master/traffic_data/berkeley_edges.csv\" -O traffic_inputs/berkeley_edges.csv\n",
        "!wget \"https://raw.githubusercontent.com/UCB-CE170a/Fall2020/master/traffic_data/berkeley_nodes.csv\" -O traffic_inputs/berkeley_nodes.csv\n",
        "!wget \"https://raw.githubusercontent.com/UCB-CE170a/Fall2020/master/traffic_data/od_20pn.csv\" -O traffic_inputs/od_20pn.csv\n",
        "\n",
        "# create output directory\n",
        "!rm -rf traffic_outputs\n",
        "!mkdir -p traffic_outputs\n",
        "!mkdir -p traffic_outputs/t_stats\n",
        "!mkdir -p traffic_outputs/node_stats\n",
        "!mkdir -p traffic_outputs/link_stats"
      ],
      "execution_count": null,
      "outputs": []
    },
    {
      "cell_type": "markdown",
      "metadata": {
        "colab_type": "text",
        "id": "Ql7TedEEeZ2N"
      },
      "source": [
        "### Import modules"
      ]
    },
    {
      "cell_type": "code",
      "metadata": {
        "colab_type": "code",
        "id": "OUIOsojbyHV4",
        "colab": {}
      },
      "source": [
        "import time \n",
        "import random\n",
        "import logging \n",
        "import numpy as np\n",
        "import pandas as pd \n",
        "import matplotlib.pyplot as plt \n",
        "%matplotlib inline\n",
        "random.seed(0)\n",
        "np.random.seed(0)\n",
        "\n",
        "### spatial queue model\n",
        "from queue_model import Node, Link, Agent, Simulation"
      ],
      "execution_count": null,
      "outputs": []
    },
    {
      "cell_type": "markdown",
      "metadata": {
        "colab_type": "text",
        "id": "wxEeoLFv55aa"
      },
      "source": [
        "### Run the simulation\n",
        "Note: if you change anything below, you need to re-run all cells start from here"
      ]
    },
    {
      "cell_type": "code",
      "metadata": {
        "colab_type": "code",
        "id": "vM37GRidyHSw",
        "colab": {}
      },
      "source": [
        "#################### Modify here #################### \n",
        "### your name in the string, avoid space\n",
        "yourname = 'tester'\n",
        "### scenario you are running, choose between \"base\" and \"contraflow\"\n",
        "scenario = 'base'\n",
        "### simulation duration, specify at which time step to stop the simulation. It needs to be long enough for all evacuees to arrive at the safe destination.\n",
        "t_end = 3601\n",
        "####################  End here  #################### \n",
        "if scenario =='contraflow': print('please upload your `contraflow_edges_{}.csv` under the `traffic_inputs` folder'.format(yourname))"
      ],
      "execution_count": null,
      "outputs": []
    },
    {
      "cell_type": "markdown",
      "metadata": {
        "id": "1lu_iL5CfglE",
        "colab_type": "text"
      },
      "source": [
        "The code block below reads in the input files. If you are running the `contraflow` scenario, the `contraflow_edges_[yourname].csv` file storing the contraflow information will be read in as well. The road network graph used for traffic simulation is then generated based on both the base network file and the new contraflow information."
      ]
    },
    {
      "cell_type": "code",
      "metadata": {
        "id": "ija35ztEfbcy",
        "colab_type": "code",
        "colab": {}
      },
      "source": [
        "nodes_df = pd.read_csv('traffic_inputs/berkeley_nodes.csv')\n",
        "links_df = pd.read_csv('traffic_inputs/berkeley_edges.csv')\n",
        "od_df = pd.read_csv('traffic_inputs/od_20pn.csv')\n",
        "\n",
        "if scenario == 'base':\n",
        "    pass\n",
        "elif scenario == 'contraflow':\n",
        "    contraflow_links_df = pd.read_csv('traffic_inputs/contraflow_edges_{}.csv'.format(yourname))\n",
        "    print('Your choice of contraflow locations are \\n')\n",
        "    display(contraflow_links_df.head())\n",
        "    links_df = links_df.merge(contraflow_links_df[['link_id', 'new_lanes']], how='left', on='link_id')\n",
        "    links_df['lanes'] = np.where(np.isnan(links_df['new_lanes']), links_df['lanes'], links_df['new_lanes'])\n",
        "else: \n",
        "    print('invalid scenario, run base scenario')\n",
        "scenario_name = '{}_{}'.format(scenario, yourname)\n",
        "\n",
        "simulation = Simulation()\n",
        "simulation.create_network(nodes_df, links_df)\n",
        "simulation.create_demand(od_df)"
      ],
      "execution_count": null,
      "outputs": []
    },
    {
      "cell_type": "code",
      "metadata": {
        "colab_type": "code",
        "id": "Ip7K1Pm0B2Qo",
        "colab": {}
      },
      "source": [
        "### calculating shortest path\n",
        "cannot_find_path = []\n",
        "for agent_id, agent in simulation.all_agents.items():\n",
        "    routing_status = agent.get_path( g=simulation.g )\n",
        "    if routing_status == 'no_path_found':\n",
        "        cannot_find_path.append(agent_id)\n",
        "\n",
        "for agent_id in cannot_find_path:\n",
        "    del simulation.all_agents[agent_id]\n",
        "print('# o-d pairs whose paths cannot be found: {}'.format(len(cannot_find_path)))\n",
        "print('# o-d pairs/trips {}'.format(len(simulation.all_agents)))"
      ],
      "execution_count": null,
      "outputs": []
    },
    {
      "cell_type": "code",
      "metadata": {
        "colab_type": "code",
        "id": "VgVQn45KDURn",
        "colab": {}
      },
      "source": [
        "### run spatial queue simulation\n",
        "reroute_frequency = 3600 ### time unit is second\n",
        "\n",
        "### a file that stores the numbers of arrived evacuees at different time steps\n",
        "with open('traffic_outputs/t_stats/t_stats_{}.csv'.format(scenario_name), 'w') as t_stats_outfile:\n",
        "    t_stats_outfile.write(\"t,arr\"+\"\\n\")\n",
        "\n",
        "for t in range(t_end):\n",
        "  \n",
        "    ### load agents\n",
        "    for agent_id, agent in simulation.all_agents.items(): \n",
        "        agent.load_trips(t)\n",
        "        ### reroute\n",
        "        if (t>0) and (t%reroute_frequency == 0):\n",
        "            routing_status = agent.get_path( g=simulation.g )\n",
        "\n",
        "    ### run link model\n",
        "    for link_id, link in simulation.all_links.items():\n",
        "        link.run_link_model(t)\n",
        "\n",
        "    ### run node model\n",
        "    node_ids_to_run = set([link.end_nid for link in simulation.all_links.values() if len(link.queue_veh)>0])\n",
        "    for node_id in node_ids_to_run:\n",
        "        node = simulation.all_nodes[node_id] \n",
        "        node.run_node_model(t)\n",
        "    \n",
        "    ### output time-step results\n",
        "    if t%100 == 0:\n",
        "        arrival_cnts = np.sum([1 for a in simulation.all_agents.values() if a.status=='arr'])\n",
        "        print('At {} seconds, {} evacuees successfully reached the destination'.format(t, arrival_cnts))\n",
        "        if arrival_cnts == len(simulation.all_agents):\n",
        "            print(\"all agents arrive at destinations at time {} seconds.\".format(t))\n",
        "            break\n",
        "        with open('traffic_outputs/t_stats/t_stats_{}.csv'.format(scenario_name), 'a') as t_stats_outfile:\n",
        "            t_stats_outfile.write(\"{},{}\".format(t, arrival_cnts) + \"\\n\")\n",
        "    \n",
        "    ### output queue length for each link\n",
        "    if t%100 == 0:\n",
        "        link_output = pd.DataFrame([(link.lid, len(link.queue_veh), len(link.run_veh), link.geometry) for link in simulation.all_links.values() if link.ltype[0:2]!='vl'], columns=['link_id', 'q', 'r', 'geometry'])\n",
        "        link_output[(link_output['q']>0) | (link_output['r']>0)].reset_index(drop=True).to_csv('traffic_outputs/link_stats/link_stats_{}_t{}.csv'.format(scenario_name, t), index=False)\n",
        "        node_predepart = pd.DataFrame([(agent.cle, 1) for agent in simulation.all_agents.values() if (agent.status in [None, 'loaded'])], columns=['node_id', 'predepart_cnt']).groupby('node_id').agg({'predepart_cnt': np.sum}).reset_index()\n",
        "        if node_predepart.shape[0]>0:\n",
        "            node_predepart.merge(nodes_df[['node_id', 'lat', 'lon']], how='left', on='node_id').to_csv('traffic_outputs/node_stats/node_stats_{}_t{}.csv'.format(scenario_name, t), index=False)"
      ],
      "execution_count": null,
      "outputs": []
    },
    {
      "cell_type": "markdown",
      "metadata": {
        "id": "zJr9Ef3MjPaT",
        "colab_type": "text"
      },
      "source": [
        "### Visualize the results\n",
        "There are at least two types of visualizations that you can make based on the output files from running the simulation code above:\n",
        "\n",
        "1. Arrival curve. This is a line plot showing the number of arrived vehicles at different time steps. The code block below shows an example of how to make the arrival plot.\n",
        "\n",
        "2. Queueing status and departure status map. Suppose we want to visualize the queueing status 20 minutes after the onset of the evacuation under the base scenario in QGIS, we just need to load the file `link_stats_base_t1000.csv` to QGIS and choose a suitable categorized legend. Similarly, we can also load `node_stats_base_t1000.csv` to the same map to display the number of vehicles that are still at their origin node (cannot departure because the road in front of their origin is too congested).\n",
        "\n",
        "These visualizations can help you to get an intuitive idea of whether your strategy is effective"
      ]
    },
    {
      "cell_type": "code",
      "metadata": {
        "id": "H-DHLUHpLXnb",
        "colab_type": "code",
        "colab": {}
      },
      "source": [
        "### plot the arrival curve\n",
        "fig, ax = plt.subplots(figsize=(10,5))\n",
        "\n",
        "### base scenario arrival\n",
        "t_stats_base_df = pd.read_csv('traffic_outputs/t_stats/t_stats_{}.csv'.format('base_tester'))\n",
        "ax.plot(t_stats_base_df['t'], t_stats_base_df['arr'], label='base')\n",
        "\n",
        "### contraflow scenario arrival\n",
        "t_stats_contraflow_df = pd.read_csv('traffic_outputs/t_stats/t_stats_{}.csv'.format('contraflow_tester'))\n",
        "ax.plot(t_stats_contraflow_df['t'], t_stats_contraflow_df['arr'], label='contraflow')\n",
        "\n",
        "# t_stats_contraflow_df = pd.read_csv('traffic_outputs/t_stats/t_stats_{}.csv'.format('contraflow_tester_2'))\n",
        "# ax.plot(t_stats_contraflow_df['t'], t_stats_contraflow_df['arr'], label='contraflow_2')\n",
        "\n",
        "ax.set_xlabel('Time since the start of the evacuation')\n",
        "ax.set_ylabel('# arrived vehicles')\n",
        "ax.set_xlim([0, 3600])\n",
        "plt.legend()\n",
        "plt.show()"
      ],
      "execution_count": null,
      "outputs": []
    },
    {
      "cell_type": "code",
      "metadata": {
        "id": "_Rnb7AXwozFp",
        "colab_type": "code",
        "colab": {}
      },
      "source": [
        "### run this command to put all the outputs in a compressed file\n",
        "### you can then download the file to your local computer for visualization\n",
        "!tar czvf traffic_outputs.tar.gz traffic_outputs"
      ],
      "execution_count": null,
      "outputs": []
    }
  ]
}