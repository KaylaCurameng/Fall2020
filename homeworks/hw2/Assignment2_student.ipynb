{
  "nbformat": 4,
  "nbformat_minor": 0,
  "metadata": {
    "colab": {
      "name": "Assignment2_student.ipynb",
      "provenance": [],
      "collapsed_sections": [],
      "toc_visible": true
    },
    "kernelspec": {
      "display_name": "Python 3",
      "language": "python",
      "name": "python3"
    },
    "language_info": {
      "codemirror_mode": {
        "name": "ipython",
        "version": 3
      },
      "file_extension": ".py",
      "mimetype": "text/x-python",
      "name": "python",
      "nbconvert_exporter": "python",
      "pygments_lexer": "ipython3",
      "version": "3.7.7"
    }
  },
  "cells": [
    {
      "cell_type": "markdown",
      "metadata": {
        "id": "nYOxsFJkJbrq",
        "colab_type": "text"
      },
      "source": [
        "### 0.Introduction\n",
        "This notebook will guide you to run spatial-queue based traffic simulations to simulate the traffic flow during a hypothesized evacuation scenario in North Berkeley. Specifically, you will run a base case scenario and determine where the traffic bottlenecks are in the base scenario. To identify the bottleneck locations, you will need to visualize your output in QGIS. Next, you will need to specify your desired location of implementing contraflow to ease the bottleneck.\n",
        "\n",
        "There is no need to change the code other than places with ###YOUR_CODE[NAME]_HERE###."
      ]
    },
    {
      "cell_type": "markdown",
      "metadata": {
        "colab_type": "text",
        "id": "kLYdY2gNehKd"
      },
      "source": [
        "### 1.Download input files and required modules"
      ]
    },
    {
      "cell_type": "code",
      "metadata": {
        "colab_type": "code",
        "id": "rcGm3BDUYSrB",
        "colab": {}
      },
      "source": [
        "# retrieve the sp code\n",
        "!rm -rf sp && mkdir sp\n",
        "!wget \"https://github.com/UCB-CE170a/Fall2020/raw/master/traffic_data/liblsp.so\" -O sp/liblsp.so\n",
        "!wget \"https://raw.githubusercontent.com/UCB-CE170a/Fall2020/master/traffic_data/interface.py\" -O sp/interface.py\n",
        "\n",
        "# retrieve the spatial queue model\n",
        "!wget \"https://raw.githubusercontent.com/UCB-CE170a/Fall2020/master/traffic_data/queue_model.py\" -O queue_model.py\n",
        "\n",
        "# retrieve the road network\n",
        "!rm -rf traffic_inputs && mkdir traffic_inputs\n",
        "!wget \"https://raw.githubusercontent.com/UCB-CE170a/Fall2020/master/traffic_data/berkeley_links.csv\" -O traffic_inputs/berkeley_links.csv\n",
        "!wget \"https://raw.githubusercontent.com/UCB-CE170a/Fall2020/master/traffic_data/berkeley_nodes.csv\" -O traffic_inputs/berkeley_nodes.csv\n",
        "!wget \"https://raw.githubusercontent.com/UCB-CE170a/Fall2020/master/traffic_data/od_20pn.csv\" -O traffic_inputs/od_20pn.csv\n",
        "!wget \"https://raw.githubusercontent.com/UCB-CE170a/Fall2020/master/traffic_data/od_10pn.csv\" -O traffic_inputs/od_10pn.csv\n",
        "!wget \"https://raw.githubusercontent.com/UCB-CE170a/Fall2020/master/traffic_data/od_50pn.csv\" -O traffic_inputs/od_50pn.csv\n",
        "\n",
        "# create output directory\n",
        "!rm -rf traffic_outputs\n",
        "!mkdir -p traffic_outputs\n",
        "!mkdir -p traffic_outputs/t_stats\n",
        "!mkdir -p traffic_outputs/node_stats\n",
        "!mkdir -p traffic_outputs/link_stats"
      ],
      "execution_count": null,
      "outputs": []
    },
    {
      "cell_type": "markdown",
      "metadata": {
        "colab_type": "text",
        "id": "Ql7TedEEeZ2N"
      },
      "source": [
        "### 2.Import modules and libraries"
      ]
    },
    {
      "cell_type": "code",
      "metadata": {
        "colab_type": "code",
        "id": "OUIOsojbyHV4",
        "colab": {}
      },
      "source": [
        "import time \n",
        "import random\n",
        "import numpy as np\n",
        "import pandas as pd \n",
        "import matplotlib.pyplot as plt \n",
        "%matplotlib inline\n",
        "random.seed(0)\n",
        "np.random.seed(0)\n",
        "\n",
        "### spatial queue model\n",
        "from queue_model import Node, Link, Agent, Simulation"
      ],
      "execution_count": null,
      "outputs": []
    },
    {
      "cell_type": "markdown",
      "metadata": {
        "colab_type": "text",
        "id": "wxEeoLFv55aa"
      },
      "source": [
        "### Task 1. Run the base scenario\n",
        "In this section, we will run the base scenario where no contraflow is implemented."
      ]
    },
    {
      "cell_type": "markdown",
      "metadata": {
        "id": "it6Frx8ocshq",
        "colab_type": "text"
      },
      "source": [
        "Step1: Read data and set some simulation parameters. "
      ]
    },
    {
      "cell_type": "code",
      "metadata": {
        "id": "ija35ztEfbcy",
        "colab_type": "code",
        "colab": {}
      },
      "source": [
        "scenario = 'base'\n",
        "yourname = 'tester' ### YOUR_NAME_HERE avoid space ###\n",
        "scenario_name = '{}-{}'.format(scenario, yourname)\n",
        "\n",
        "# simulation duration in seconds, specify at which time step to stop the simulation. It needs to be long enough for all evacuees to arrive at the safe destination.\n",
        "t_end = 3601\n",
        "\n",
        "# vehicle rerouting frequency (second per reroute). Default value is 3600s or 1 hour -- baseically no rerouting\n",
        "# do not change this value for results submitted on September 30. But you can change it for your report.\n",
        "reroute_frequency = 1800\n",
        "\n",
        "# read data\n",
        "nodes_df = pd.read_csv('traffic_inputs/berkeley_nodes.csv')\n",
        "links_df = pd.read_csv('traffic_inputs/berkeley_links.csv')\n",
        "od_df = pd.read_csv('traffic_inputs/od_20pn.csv') ### you can use od_10pn.csv (lower demand) or od_50pn.csv (higher demand) for your report (but not for results submitted on September 30)."
      ],
      "execution_count": null,
      "outputs": []
    },
    {
      "cell_type": "markdown",
      "metadata": {
        "id": "NojtuIWjc1AY",
        "colab_type": "text"
      },
      "source": [
        "Step2: initialize the simulation"
      ]
    },
    {
      "cell_type": "code",
      "metadata": {
        "id": "2lbGLu5UhPGD",
        "colab_type": "code",
        "colab": {}
      },
      "source": [
        "# remove vehicles from the simulation if no path can be found for it\n",
        "def remove_no_path_agents(simulation):\n",
        "  cannot_find_path = []\n",
        "  for vehicle_id, vehicle in simulation.all_agents.items():\n",
        "      routing_status = vehicle.get_path( g=simulation.g )\n",
        "      if routing_status == 'no_path_found':\n",
        "          cannot_find_path.append(vehicle_id)\n",
        "\n",
        "  for vehicle_id in cannot_find_path:\n",
        "      del simulation.all_agents[vehicle_id]\n",
        "      \n",
        "  print('# o-d pairs whose paths cannot be found: {}'.format(len(cannot_find_path)))\n",
        "  print('# o-d pairs/trips {}'.format(len(simulation.all_agents)))\n",
        "  return simulation\n",
        "\n",
        "# initialize the spatial-queue model\n",
        "def init_sq_simulation(nodes_df, links_df, od_df):\n",
        "\n",
        "  simulation = Simulation()\n",
        "  simulation.create_network(nodes_df, links_df)\n",
        "  simulation.create_demand(od_df)\n",
        "\n",
        "  simulation = remove_no_path_agents(simulation)\n",
        "  return simulation"
      ],
      "execution_count": null,
      "outputs": []
    },
    {
      "cell_type": "code",
      "metadata": {
        "colab_type": "code",
        "id": "Ip7K1Pm0B2Qo",
        "colab": {}
      },
      "source": [
        "simulation = init_sq_simulation(nodes_df,links_df,od_df)"
      ],
      "execution_count": null,
      "outputs": []
    },
    {
      "cell_type": "markdown",
      "metadata": {
        "id": "7g2Z_-Y7dM_K",
        "colab_type": "text"
      },
      "source": [
        "Step3: Run the spatial queue simulation"
      ]
    },
    {
      "cell_type": "code",
      "metadata": {
        "id": "SZxAGF4OgBwz",
        "colab_type": "code",
        "colab": {}
      },
      "source": [
        "# run the spatial-queue simulation for one time step\n",
        "def single_step_sq_sim(simulation,t,reroute_frequency):\n",
        "  ### load agents\n",
        "  for agent_id, agent in simulation.all_agents.items(): \n",
        "    agent.load_trips(t)\n",
        "    ### reroute\n",
        "    if (t>0) and (t%reroute_frequency == 0):\n",
        "        routing_status = agent.get_path( g=simulation.g )\n",
        "  ### run link model\n",
        "  for link_id, link in simulation.all_links.items():\n",
        "    link.run_link_model(t)\n",
        "  ### run node model\n",
        "  node_ids_to_run = set([link.end_nid for link in simulation.all_links.values() if len(link.queue_veh)>0])\n",
        "  for node_id in node_ids_to_run:\n",
        "    node = simulation.all_nodes[node_id] \n",
        "    node.run_node_model(t)\n",
        "  return simulation\n",
        "\n",
        "# count the number of evacuees that have successfully reach their destination\n",
        "def arrival_counts(t,simulation,save_path):\n",
        "  arrival_cnts = np.sum([1 for a in simulation.all_agents.values() if a.status=='arr'])\n",
        "  print('At {} seconds, {} evacuees successfully reached the destination'.format(t, arrival_cnts))\n",
        "  if arrival_cnts == len(simulation.all_agents):\n",
        "      print(\"all agents arrive at destinations at time {} seconds.\".format(t))\n",
        "      return False\n",
        "  with open(save_path, 'a') as t_stats_outfile:\n",
        "      t_stats_outfile.write(\"{},{}\".format(t, arrival_cnts) + \"\\n\")\n",
        "  return True\n",
        "\n",
        "# write a csv file that contains the numbers of queuing and running vehicles on each link\n",
        "def write_link_outputs(simulation,save_path):\n",
        "  link_output = pd.DataFrame([(link.lid, len(link.queue_veh), len(link.run_veh), link.geometry) for link in simulation.all_links.values() if link.ltype[0:2]!='vl'], columns=['link_id', 'queue_vehicle_count', 'run_vehicle_count', 'geometry'])\n",
        "  link_output = link_output[(link_output['queue_vehicle_count']>0) | (link_output['run_vehicle_count']>0)].reset_index(drop=True)\n",
        "  link_output.to_csv(save_path, index=False)\n",
        "\n",
        "# write a csv file that contains the numbers of vehicles that have not departed and waiting at each node\n",
        "def write_node_outputs(simulation,save_path):\n",
        "  node_predepart = pd.DataFrame([(agent.cle, 1) for agent in simulation.all_agents.values() if (agent.status in [None, 'loaded'])], columns=['node_id', 'predepart_cnt']).groupby('node_id').agg({'predepart_cnt': np.sum}).reset_index()\n",
        "  if node_predepart.shape[0]>0:\n",
        "      node_predepart = node_predepart.merge(nodes_df[['node_id', 'lat', 'lon']], how='left', on='node_id')\n",
        "      node_predepart.to_csv(save_path, index=False)\n",
        "\n"
      ],
      "execution_count": null,
      "outputs": []
    },
    {
      "cell_type": "code",
      "metadata": {
        "id": "FaBHStgAdRhO",
        "colab_type": "code",
        "colab": {}
      },
      "source": [
        "def spatial_queue_simulation(t_end,simulation,scenario_name,reroute_frequency):\n",
        "  # paths \n",
        "  arrival_output_path = 'traffic_outputs/t_stats/arrivals_{}.csv'.format(scenario_name)\n",
        "  with open(arrival_output_path, 'w') as t_stats_outfile:\n",
        "      t_stats_outfile.write(\"t,arrival_count\"+\"\\n\")\n",
        "\n",
        "  # iterate through each time step\n",
        "  for t in range(t_end):\n",
        "      # run the spatial-queue simulation for one step\n",
        "      simulation = single_step_sq_sim(simulation,t,reroute_frequency)\n",
        "\n",
        "      # output time-step results every 100 seconds\n",
        "      if t%100 == 0:\n",
        "        if not arrival_counts(t,simulation,arrival_output_path):\n",
        "          break\n",
        "        link_output_path = 'traffic_outputs/link_stats/l{}_at_{}.csv'.format(scenario_name, t)\n",
        "        node_output_path = 'traffic_outputs/node_stats/n{}_at_{}.csv'.format(scenario_name, t)\n",
        "        write_link_outputs(simulation,link_output_path)\n",
        "        write_node_outputs(simulation,node_output_path)\n",
        "\n",
        "  print (\"simulation completed\")\n",
        "  return simulation"
      ],
      "execution_count": null,
      "outputs": []
    },
    {
      "cell_type": "code",
      "metadata": {
        "id": "6p9Sw-HffcYP",
        "colab_type": "code",
        "colab": {}
      },
      "source": [
        "spatial_queue_simulation(t_end, simulation, scenario_name, reroute_frequency)"
      ],
      "execution_count": null,
      "outputs": []
    },
    {
      "cell_type": "markdown",
      "metadata": {
        "id": "zJr9Ef3MjPaT",
        "colab_type": "text"
      },
      "source": [
        "### Task 1.b Visualize the results\n",
        "There are at least two types of visualizations that you can make based on the output files from running the simulation code above:\n",
        "\n",
        "1. Arrival curve. This is a line plot showing the number of arrived vehicles at different time steps. The code block below shows an example of how to make the arrival plot.\n",
        "\n",
        "2. Queueing status and departure status map. Suppose we want to visualize the queueing status around 20 minutes after the onset of the evacuation under the base scenario in QGIS, we just need to load the file `link_stats_base_t1200.csv` to QGIS and choose a suitable categorized legend. Similarly, we can also load `node_stats_base_t1200.csv` to the same map to display the number of vehicles that are still at their origin node (cannot departure because the road in front of their origin is too congested). Based on our experience, most vehicles should be able to depart pretty early, so `node_stats_base_t[...].csv` is likely to be empty.\n",
        "\n",
        "These visualizations can help you to get an intuitive idea of whether your strategy is effective."
      ]
    },
    {
      "cell_type": "code",
      "metadata": {
        "id": "H-DHLUHpLXnb",
        "colab_type": "code",
        "colab": {}
      },
      "source": [
        "### plot the arrival curve\n",
        "fig, ax = plt.subplots(figsize=(10,5))\n",
        "\n",
        "### base scenario arrival\n",
        "t_stats_base_df = pd.read_csv('traffic_outputs/t_stats/arrivals_{}-{}.csv'.format('base', yourname))\n",
        "ax.plot(t_stats_base_df['t'], t_stats_base_df['arrival_count'], label='base')\n",
        "\n",
        "ax.set_xlabel('Time since the start of the evacuation')\n",
        "ax.set_ylabel('# arrived vehicles')\n",
        "ax.set_xlim([0, 3600])\n",
        "plt.legend()\n",
        "plt.show()"
      ],
      "execution_count": null,
      "outputs": []
    },
    {
      "cell_type": "code",
      "metadata": {
        "id": "_Rnb7AXwozFp",
        "colab_type": "code",
        "colab": {}
      },
      "source": [
        "### run this command to put all the outputs in a compressed file\n",
        "### you can then download the file to your local computer for visualization\n",
        "!tar czvf traffic_outputs.tar.gz traffic_outputs"
      ],
      "execution_count": null,
      "outputs": []
    },
    {
      "cell_type": "markdown",
      "metadata": {
        "id": "1wpFiwjtn2qi",
        "colab_type": "text"
      },
      "source": [
        "### Task 2. Contraflow scenario"
      ]
    },
    {
      "cell_type": "markdown",
      "metadata": {
        "id": "itznppafu1Gy",
        "colab_type": "text"
      },
      "source": [
        "Step1: read files. You need to upload your contraflow links file CSV to `traffic_inputs/contraflow_links_[your_name].csv`. Refer to [the Github page](https://github.com/UCB-CE170a/Fall2020/edit/master/homeworks/hw2/README.md) for formats and requirements of this contraflow file."
      ]
    },
    {
      "cell_type": "code",
      "metadata": {
        "id": "nKKfIGYQn8Ua",
        "colab_type": "code",
        "colab": {}
      },
      "source": [
        "nodes_df = pd.read_csv('traffic_inputs/berkeley_nodes.csv')\n",
        "links_df = pd.read_csv('traffic_inputs/berkeley_links.csv')\n",
        "od_df = pd.read_csv('traffic_inputs/od_20pn.csv')\n",
        "\n",
        "scenario = 'contraflow'\n",
        "scenario_name = '{}-{}'.format(scenario, yourname)\n",
        "\n",
        "contraflow_path = 'traffic_inputs/contraflow_links_{}.csv'.format(yourname)\n",
        "contraflow_links_df = pd.read_csv(contraflow_path)\n",
        "print('Your choice of contraflow locations are \\n')\n",
        "display(contraflow_links_df.head())\n",
        "\n",
        "links_df = links_df.merge(contraflow_links_df[['link_id', 'new_lanes']], how='left', on='link_id')\n",
        "links_df['lanes'] = np.where(np.isnan(links_df['new_lanes']), links_df['lanes'], links_df['new_lanes'])\n"
      ],
      "execution_count": null,
      "outputs": []
    },
    {
      "cell_type": "markdown",
      "metadata": {
        "id": "rEJU5PXyu9bC",
        "colab_type": "text"
      },
      "source": [
        "step2: initialize simulation"
      ]
    },
    {
      "cell_type": "code",
      "metadata": {
        "id": "Qy41T-5FvBZ1",
        "colab_type": "code",
        "colab": {}
      },
      "source": [
        "simulation = init_sq_simulation(nodes_df, links_df, od_df)"
      ],
      "execution_count": null,
      "outputs": []
    },
    {
      "cell_type": "markdown",
      "metadata": {
        "id": "nnn2j8UPvECa",
        "colab_type": "text"
      },
      "source": [
        "step3: run simulation "
      ]
    },
    {
      "cell_type": "code",
      "metadata": {
        "id": "AiBuKZKGohha",
        "colab_type": "code",
        "colab": {}
      },
      "source": [
        "spatial_queue_simulation(t_end, simulation, scenario_name, reroute_frequency)"
      ],
      "execution_count": null,
      "outputs": []
    },
    {
      "cell_type": "code",
      "metadata": {
        "id": "vq35laNEomx2",
        "colab_type": "code",
        "colab": {}
      },
      "source": [
        "### plot the arrival curve\n",
        "fig, ax = plt.subplots(figsize=(10,5))\n",
        "\n",
        "### base scenario arrival\n",
        "t_stats_base_df = pd.read_csv('traffic_outputs/t_stats/arrivals_{}-{}.csv'.format('base', yourname))\n",
        "ax.plot(t_stats_base_df['t'], t_stats_base_df['arrival_count'], label='base')\n",
        "\n",
        "## contraflow scenario arrival\n",
        "t_stats_contraflow_df = pd.read_csv('traffic_outputs/t_stats/arrivals_{}-{}.csv'.format('contraflow', yourname))\n",
        "ax.plot(t_stats_contraflow_df['t'], t_stats_contraflow_df['arrival_count'], label='contraflow')\n",
        "\n",
        "ax.set_xlabel('Time since the start of the evacuation')\n",
        "ax.set_ylabel('# arrived vehicles')\n",
        "ax.set_xlim([0, 3600])\n",
        "plt.legend()\n",
        "plt.show()"
      ],
      "execution_count": null,
      "outputs": []
    }
  ]
}