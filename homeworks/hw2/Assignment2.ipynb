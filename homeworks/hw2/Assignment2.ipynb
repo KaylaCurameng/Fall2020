{
 "cells": [
  {
   "cell_type": "code",
   "execution_count": null,
   "metadata": {
    "colab": {},
    "colab_type": "code",
    "id": "rcGm3BDUYSrB"
   },
   "outputs": [],
   "source": [
    "!rm -rf sp traffic_inputs traffic_outputs\n",
    "!mkdir sp traffic_inputs\n",
    "!mkdir -p traffic_outputs\n",
    "!mkdir -p traffic_outputs/t_stats\n",
    "!mkdir -p traffic_outputs/node_stats\n",
    "!mkdir -p traffic_outputs/link_stats\n",
    "!wget \"https://drive.google.com/uc?export=download&id=1Jbc2YZwm7Ik_ibs09UwvPAOVwAZAdq3M\" -O sp/liblsp.so\n",
    "!wget \"https://drive.google.com/uc?export=download&id=1vwpB8c9wNOy7tpBGEuWozqYO64xJD9Zl\" -O sp/interface.py\n",
    "!wget \"https://drive.google.com/uc?export=download&id=1jpIniyB0FRhIPhZ5gRq3VLrkZiSh-2GC\" -O queue_model.py\n",
    "!wget \"https://drive.google.com/uc?export=download&id=1cM0gukYoqUOeojdFrNvzJE-lFxhnbM0y\" -O traffic_inputs/od_5pn.csv\n",
    "!wget \"https://drive.google.com/uc?export=download&id=1r3KHVP-y7kVzdM2ht_Yr6IP506hlLaSZ\" -O traffic_inputs/berkeley_nodes.csv\n",
    "!wget \"https://drive.google.com/uc?export=download&id=1LTBVWGnzAqUWCSzk7I_WHmzM7SucGcPG\" -O traffic_inputs/berkeley_edges.csv"
   ]
  },
  {
   "cell_type": "markdown",
   "metadata": {
    "colab_type": "text",
    "id": "wxEeoLFv55aa"
   },
   "source": [
    "Import modules"
   ]
  },
  {
   "cell_type": "code",
   "execution_count": null,
   "metadata": {
    "colab": {},
    "colab_type": "code",
    "id": "CuWeJOobPhY8"
   },
   "outputs": [],
   "source": [
    "!wget \"https://drive.google.com/uc?export=download&id=1jpIniyB0FRhIPhZ5gRq3VLrkZiSh-2GC\" -O queue_model.py"
   ]
  },
  {
   "cell_type": "code",
   "execution_count": null,
   "metadata": {
    "colab": {},
    "colab_type": "code",
    "id": "OUIOsojbyHV4"
   },
   "outputs": [],
   "source": [
    "import time \n",
    "import random\n",
    "import logging \n",
    "import numpy as np\n",
    "import pandas as pd \n",
    "\n",
    "### spatial queue model\n",
    "from queue_model import Node, Link, Agent, Simulation"
   ]
  },
  {
   "cell_type": "markdown",
   "metadata": {
    "colab_type": "text",
    "id": "4NQwuLbt6WCR"
   },
   "source": [
    "Processing network"
   ]
  },
  {
   "cell_type": "code",
   "execution_count": null,
   "metadata": {
    "colab": {},
    "colab_type": "code",
    "id": "vM37GRidyHSw"
   },
   "outputs": [],
   "source": [
    "nodes_df = pd.read_csv('traffic_inputs/berkeley_nodes.csv')\n",
    "links_df = pd.read_csv('traffic_inputs/berkeley_edges.csv')\n",
    "od_df = pd.read_csv('traffic_inputs/od_5pn.csv')\n",
    "\n",
    "simulation = Simulation()\n",
    "simulation.create_network(nodes_df, links_df)\n",
    "simulation.create_demand(od_df)"
   ]
  },
  {
   "cell_type": "markdown",
   "metadata": {
    "colab_type": "text",
    "id": "g_2KTz4ABrHp"
   },
   "source": []
  },
  {
   "cell_type": "code",
   "execution_count": null,
   "metadata": {
    "colab": {},
    "colab_type": "code",
    "id": "Ip7K1Pm0B2Qo"
   },
   "outputs": [],
   "source": [
    "### calculating shortest path\n",
    "cannot_find_path = 0\n",
    "for agent_id, agent in simulation.all_agents.items():\n",
    "  routing_status = agent.get_path( g=simulation.g )\n",
    "  if routing_status == 'n_a':\n",
    "    cannot_find_path += 1\n",
    "print('# trips whose paths cannot be found: {}'.format(cannot_find_path))"
   ]
  },
  {
   "cell_type": "code",
   "execution_count": null,
   "metadata": {
    "colab": {},
    "colab_type": "code",
    "id": "VgVQn45KDURn"
   },
   "outputs": [],
   "source": [
    "t_start, t_end = 0, 2401\n",
    "reroute_frequency = 60 ### sec\n",
    "\n",
    "with open('traffic_outputs/t_stats/t_stats.csv', 'w') as t_stats_outfile:\n",
    "  t_stats_outfile.write(\"t,arr\"+\"\\n\")\n",
    "\n",
    "for t in range(t_start, t_end):\n",
    "  \n",
    "  ### load agents\n",
    "  for agent_id, agent in simulation.all_agents.items(): \n",
    "    agent.load_trips(t)\n",
    "    ### reroute\n",
    "    if (t>0) and (t%reroute_frequency == 0):\n",
    "      routing_status = agent.get_path( g=simulation.g )\n",
    "\n",
    "  ### run link model\n",
    "  for link_id, link in simulation.all_links.items():\n",
    "    link.run_link_model(t)\n",
    "\n",
    "  ### run node model\n",
    "  node_ids_to_run = set([link.end_nid for link in simulation.all_links.values() if len(link.queue_veh)>0])\n",
    "  for node_id in node_ids_to_run:\n",
    "    node = simulation.all_nodes[node_id] \n",
    "    node.run_node_model(t)\n",
    "  \n",
    "  ### output results\n",
    "  if t%100 == 0:\n",
    "    arrival_cnts = np.sum([1 for a in simulation.all_agents.values() if a.status=='arr'])\n",
    "    print(t, arrival_cnts)\n",
    "    if arrival_cnts == len(simulation.all_agents):\n",
    "        print(\"all agents arrive at destinations\")\n",
    "        break\n",
    "    with open('traffic_outputs/t_stats/t_stats.csv', 'a') as t_stats_outfile:\n",
    "        t_stats_outfile.write(\"{},{}\".format(t, arrival_cnts) + \"\\n\")\n",
    "  \n",
    "  if t%100 == 0:\n",
    "    link_output = pd.DataFrame([(link.lid, len(link.queue_veh), len(link.run_veh), round(link.travel_time, 2)) for link in simulation.all_links.values() if link.ltype[0:2]!='vl'], columns=['link_id', 'q', 'r', 't'])\n",
    "    link_output[(link_output['q']>0) | (link_output['r']>0)].reset_index(drop=True).to_csv('traffic_outputs/link_stats/link_stats_t{}.csv'.format(t), index=False)\n",
    "    node_predepart = pd.DataFrame([(agent.cle, 1) for agent in simulation.all_agents.values() if (agent.status in [None, 'loaded'])], columns=['node_id', 'predepart_cnt']).groupby('node_id').agg({'predepart_cnt': np.sum}).reset_index()\n",
    "    node_predepart.to_csv('traffic_outputs/node_stats/node_stats_t{}.csv'.format(t), index=False)"
   ]
  },
  {
   "cell_type": "code",
   "execution_count": null,
   "metadata": {
    "colab": {},
    "colab_type": "code",
    "id": "vScVenCQo6e9"
   },
   "outputs": [],
   "source": [
    "### visualization\n",
    "# nodes_df = pd.read_csv('traffic_inputs/berkeley_nodes.csv')\n",
    "# links_df = pd.read_csv('traffic_inputs/berkeley_edges.csv')\n",
    "for t in range(100, 1100, 100):\n",
    "  link_stats = pd.read_csv('traffic_outputs/link_stats/link_stats_t{}.csv'.format(t)).merge(links_df[['link_id', 'geometry']], how='left', on='link_id').to_csv('traffic_outputs/visualization/link_stats_t{}.csv'.format(t))\n",
    "  node_stats = pd.read_csv('traffic_outputs/node_stats/node_stats_t{}.csv'.format(t)).merge(nodes_df[['node_id', 'lon', 'lat']], how='left', on='node_id').to_csv('traffic_outputs/visualization/node_stats_t{}.csv'.format(t))"
   ]
  },
  {
   "cell_type": "code",
   "execution_count": null,
   "metadata": {
    "colab": {},
    "colab_type": "code",
    "id": "drFcgN7Sqkgh"
   },
   "outputs": [],
   "source": [
    "!cd traffic_outputs && tar czvf visualization.tar.gz visualization"
   ]
  }
 ],
 "metadata": {
  "colab": {
   "collapsed_sections": [],
   "name": "CE170A.ipynb",
   "provenance": []
  },
  "kernelspec": {
   "display_name": "Python 3",
   "language": "python",
   "name": "python3"
  },
  "language_info": {
   "codemirror_mode": {
    "name": "ipython",
    "version": 3
   },
   "file_extension": ".py",
   "mimetype": "text/x-python",
   "name": "python",
   "nbconvert_exporter": "python",
   "pygments_lexer": "ipython3",
   "version": "3.7.7"
  }
 },
 "nbformat": 4,
 "nbformat_minor": 1
}
