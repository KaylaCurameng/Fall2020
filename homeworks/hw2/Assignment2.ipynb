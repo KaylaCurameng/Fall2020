{
  "nbformat": 4,
  "nbformat_minor": 0,
  "metadata": {
    "colab": {
      "name": "HW2.ipynb",
      "provenance": [],
      "collapsed_sections": []
    },
    "kernelspec": {
      "display_name": "Python 3",
      "language": "python",
      "name": "python3"
    },
    "language_info": {
      "codemirror_mode": {
        "name": "ipython",
        "version": 3
      },
      "file_extension": ".py",
      "mimetype": "text/x-python",
      "name": "python",
      "nbconvert_exporter": "python",
      "pygments_lexer": "ipython3",
      "version": "3.7.7"
    }
  },
  "cells": [
    {
      "cell_type": "markdown",
      "metadata": {
        "id": "kLYdY2gNehKd",
        "colab_type": "text"
      },
      "source": [
        "### Download input files and required modules"
      ]
    },
    {
      "cell_type": "code",
      "metadata": {
        "colab_type": "code",
        "id": "rcGm3BDUYSrB",
        "colab": {}
      },
      "source": [
        "# retrieve the sp code\n",
        "!rm -rf sp && mkdir sp\n",
        "!wget \"https://github.com/UCB-CE170a/Fall2020/raw/master/traffic_data/liblsp.so\" -O sp/liblsp.so\n",
        "!wget \"https://raw.githubusercontent.com/UCB-CE170a/Fall2020/master/traffic_data/interface.py\" -O sp/interface.py\n",
        "\n",
        "# retrieve the spatial queue model\n",
        "!wget \"https://raw.githubusercontent.com/UCB-CE170a/Fall2020/master/traffic_data/queue_model.py\" -O queue_model.py\n",
        "\n",
        "# retrieve the road network\n",
        "!rm -rf traffic_inputs && mkdir traffic_inputs\n",
        "!wget \"https://raw.githubusercontent.com/UCB-CE170a/Fall2020/master/traffic_data/berkeley_edges.csv\" -O traffic_inputs/berkeley_edges.csv\n",
        "!wget \"https://raw.githubusercontent.com/UCB-CE170a/Fall2020/master/traffic_data/berkeley_nodes.csv\" -O traffic_inputs/berkeley_nodes.csv\n",
        "!wget \"https://raw.githubusercontent.com/UCB-CE170a/Fall2020/master/traffic_data/od_20pn.csv\" -O traffic_inputs/od_20pn.csv\n",
        "\n",
        "# create output directory\n",
        "!mkdir -p traffic_outputs\n",
        "!mkdir -p traffic_outputs/t_stats\n",
        "!mkdir -p traffic_outputs/node_stats\n",
        "!mkdir -p traffic_outputs/link_stats"
      ],
      "execution_count": null,
      "outputs": []
    },
    {
      "cell_type": "markdown",
      "metadata": {
        "id": "Ql7TedEEeZ2N",
        "colab_type": "text"
      },
      "source": [
        "### Import modules"
      ]
    },
    {
      "cell_type": "code",
      "metadata": {
        "colab_type": "code",
        "id": "OUIOsojbyHV4",
        "colab": {}
      },
      "source": [
        "import time \n",
        "import random\n",
        "import logging \n",
        "import numpy as np\n",
        "import pandas as pd \n",
        "\n",
        "### spatial queue model\n",
        "from queue_model import Node, Link, Agent, Simulation"
      ],
      "execution_count": null,
      "outputs": []
    },
    {
      "cell_type": "markdown",
      "metadata": {
        "colab_type": "text",
        "id": "wxEeoLFv55aa"
      },
      "source": [
        "### Run the simulation\n",
        "Note: if you change anything below, you need to re-run all cells start from here"
      ]
    },
    {
      "cell_type": "code",
      "metadata": {
        "colab_type": "code",
        "id": "vM37GRidyHSw",
        "colab": {}
      },
      "source": [
        "nodes_df = pd.read_csv('traffic_inputs/berkeley_nodes.csv')\n",
        "links_df = pd.read_csv('traffic_inputs/berkeley_edges.csv')\n",
        "od_df = pd.read_csv('traffic_inputs/od_20pn.csv')\n",
        "\n",
        "simulation = Simulation()\n",
        "simulation.create_network(nodes_df, links_df)\n",
        "simulation.create_demand(od_df)"
      ],
      "execution_count": null,
      "outputs": []
    },
    {
      "cell_type": "code",
      "metadata": {
        "colab_type": "code",
        "id": "Ip7K1Pm0B2Qo",
        "colab": {}
      },
      "source": [
        "### calculating shortest path\n",
        "cannot_find_path = []\n",
        "for agent_id, agent in simulation.all_agents.items():\n",
        "  routing_status = agent.get_path( g=simulation.g )\n",
        "  if routing_status == 'n_a':\n",
        "    cannot_find_path.append(agent_id)\n",
        "\n",
        "for agent_id in cannot_find_path:\n",
        "  del simulation.all_agents[agent_id]\n",
        "print('# trips whose paths cannot be found: {}'.format(len(cannot_find_path)))\n",
        "print('# trips {}'.format(len(simulation.all_agents)))"
      ],
      "execution_count": null,
      "outputs": []
    },
    {
      "cell_type": "code",
      "metadata": {
        "colab_type": "code",
        "id": "VgVQn45KDURn",
        "colab": {}
      },
      "source": [
        "t_start, t_end = 0, 2401\n",
        "reroute_frequency = 60 ### sec\n",
        "\n",
        "with open('traffic_outputs/t_stats/t_stats.csv', 'w') as t_stats_outfile:\n",
        "  t_stats_outfile.write(\"t,arr\"+\"\\n\")\n",
        "\n",
        "for t in range(t_start, t_end):\n",
        "  \n",
        "  ### load agents\n",
        "  for agent_id, agent in simulation.all_agents.items(): \n",
        "    agent.load_trips(t)\n",
        "    ### reroute\n",
        "    if (t>0) and (t%reroute_frequency == 0):\n",
        "      routing_status = agent.get_path( g=simulation.g )\n",
        "\n",
        "  ### run link model\n",
        "  for link_id, link in simulation.all_links.items():\n",
        "    link.run_link_model(t)\n",
        "\n",
        "  ### run node model\n",
        "  node_ids_to_run = set([link.end_nid for link in simulation.all_links.values() if len(link.queue_veh)>0])\n",
        "  for node_id in node_ids_to_run:\n",
        "    node = simulation.all_nodes[node_id] \n",
        "    node.run_node_model(t)\n",
        "  \n",
        "  ### output results\n",
        "  if t%100 == 0:\n",
        "    arrival_cnts = np.sum([1 for a in simulation.all_agents.values() if a.status=='arr'])\n",
        "    print(t, arrival_cnts)\n",
        "    if arrival_cnts == len(simulation.all_agents):\n",
        "        print(\"all agents arrive at destinations\")\n",
        "        break\n",
        "    with open('traffic_outputs/t_stats/t_stats.csv', 'a') as t_stats_outfile:\n",
        "        t_stats_outfile.write(\"{},{}\".format(t, arrival_cnts) + \"\\n\")\n",
        "  \n",
        "  if t%100 == 0:\n",
        "    link_output = pd.DataFrame([(link.lid, len(link.queue_veh), len(link.run_veh), round(link.travel_time, 2)) for link in simulation.all_links.values() if link.ltype[0:2]!='vl'], columns=['link_id', 'q', 'r', 't'])\n",
        "    link_output[(link_output['q']>0) | (link_output['r']>0)].reset_index(drop=True).to_csv('traffic_outputs/link_stats/link_stats_t{}.csv'.format(t), index=False)\n",
        "    node_predepart = pd.DataFrame([(agent.cle, 1) for agent in simulation.all_agents.values() if (agent.status in [None, 'loaded'])], columns=['node_id', 'predepart_cnt']).groupby('node_id').agg({'predepart_cnt': np.sum}).reset_index()\n",
        "    node_predepart.to_csv('traffic_outputs/node_stats/node_stats_t{}.csv'.format(t), index=False)"
      ],
      "execution_count": null,
      "outputs": []
    },
    {
      "cell_type": "code",
      "metadata": {
        "colab_type": "code",
        "id": "vScVenCQo6e9",
        "colab": {}
      },
      "source": [
        "### visualization\n",
        "# nodes_df = pd.read_csv('traffic_inputs/berkeley_nodes.csv')\n",
        "# links_df = pd.read_csv('traffic_inputs/berkeley_edges.csv')\n",
        "for t in range(100, 1100, 100):\n",
        "  link_stats = pd.read_csv('traffic_outputs/link_stats/link_stats_t{}.csv'.format(t)).merge(links_df[['link_id', 'geometry']], how='left', on='link_id').to_csv('traffic_outputs/visualization/link_stats_t{}.csv'.format(t))\n",
        "  node_stats = pd.read_csv('traffic_outputs/node_stats/node_stats_t{}.csv'.format(t)).merge(nodes_df[['node_id', 'lon', 'lat']], how='left', on='node_id').to_csv('traffic_outputs/visualization/node_stats_t{}.csv'.format(t))"
      ],
      "execution_count": null,
      "outputs": []
    },
    {
      "cell_type": "code",
      "metadata": {
        "colab_type": "code",
        "id": "drFcgN7Sqkgh",
        "colab": {}
      },
      "source": [
        "!cd traffic_outputs && tar czvf visualization.tar.gz visualization"
      ],
      "execution_count": null,
      "outputs": []
    }
  ]
}