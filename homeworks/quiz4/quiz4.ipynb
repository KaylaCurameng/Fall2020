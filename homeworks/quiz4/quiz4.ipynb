{
  "nbformat": 4,
  "nbformat_minor": 0,
  "metadata": {
    "kernelspec": {
      "display_name": "Python 3",
      "language": "python",
      "name": "python3"
    },
    "language_info": {
      "codemirror_mode": {
        "name": "ipython",
        "version": 3
      },
      "file_extension": ".py",
      "mimetype": "text/x-python",
      "name": "python",
      "nbconvert_exporter": "python",
      "pygments_lexer": "ipython3",
      "version": "3.7.7"
    },
    "colab": {
      "name": "quiz4.ipynb",
      "provenance": []
    }
  },
  "cells": [
    {
      "cell_type": "markdown",
      "metadata": {
        "id": "8FwzisY0bL0l",
        "colab_type": "text"
      },
      "source": [
        "# Introduction"
      ]
    },
    {
      "cell_type": "code",
      "metadata": {
        "id": "iUDkjsaUa96f",
        "colab_type": "code",
        "colab": {}
      },
      "source": [
        "# Quiz 4\n",
        "# retrieve the road network and demand inputs\n",
        "!rm -rf traffic_inputs && mkdir traffic_inputs\n",
        "!wget \"https://raw.githubusercontent.com/UCB-CE170a/Fall2020/master/traffic_data/north_berkeley_edges_clean.csv\" -O traffic_inputs/berkeley_edges.csv"
      ],
      "execution_count": null,
      "outputs": []
    },
    {
      "cell_type": "markdown",
      "metadata": {
        "id": "uQoXh40Hb1zG",
        "colab_type": "text"
      },
      "source": [
        "Refresh the files tab and see if you see `berkeley_edges.csv` under `traffic_inputs`. Now, upload your results from Quiz 3 under the `traffic_inputs` folder as well."
      ]
    },
    {
      "cell_type": "code",
      "metadata": {
        "id": "za_PZ5O9cXDZ",
        "colab_type": "code",
        "colab": {}
      },
      "source": [
        "import pandas as pd"
      ],
      "execution_count": null,
      "outputs": []
    },
    {
      "cell_type": "code",
      "metadata": {
        "id": "ARp8o_VbcF5e",
        "colab_type": "code",
        "colab": {}
      },
      "source": [
        "link_volume_file = 'traffic_inputs/quiz3_bingyu_zhao.csv' ### name of your output file from Quiz 3\n",
        "\n",
        "link_volume_df = pd.read_csv(link_volume_file)\n",
        "display(link_volume_df.head(2))\n",
        "\n",
        "link_geometry_df = pd.read_csv('traffic_inputs/berkeley_edges.csv')\n",
        "link_geometry_df = link_geometry_df[['link_id', 'geometry']]\n",
        "\n",
        "link_volume_geometry_df = pd.merge(link_volume_df, link_geometry_df, how='left', on='link_id')\n",
        "display(link_volume_geometry_df.head(2))\n",
        "link_volume_geometry_df.to_csv('quiz4_bingyu_zhao.csv', index=False)"
      ],
      "execution_count": null,
      "outputs": []
    },
    {
      "cell_type": "markdown",
      "metadata": {
        "id": "ImEuasXKe_Yw",
        "colab_type": "text"
      },
      "source": [
        "Now, visualize the results above in QGIS."
      ]
    }
  ]
}