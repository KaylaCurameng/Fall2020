{
  "nbformat": 4,
  "nbformat_minor": 0,
  "metadata": {
    "colab": {
      "name": "quiz4.ipynb",
      "provenance": [],
      "toc_visible": true
    },
    "kernelspec": {
      "display_name": "Python 3",
      "language": "python",
      "name": "python3"
    },
    "language_info": {
      "codemirror_mode": {
        "name": "ipython",
        "version": 3
      },
      "file_extension": ".py",
      "mimetype": "text/x-python",
      "name": "python",
      "nbconvert_exporter": "python",
      "pygments_lexer": "ipython3",
      "version": "3.7.7"
    }
  },
  "cells": [
    {
      "cell_type": "markdown",
      "metadata": {
        "colab_type": "text",
        "id": "8FwzisY0bL0l"
      },
      "source": [
        "# Introduction"
      ]
    },
    {
      "cell_type": "code",
      "metadata": {
        "colab_type": "code",
        "id": "iUDkjsaUa96f",
        "colab": {
          "base_uri": "https://localhost:8080/",
          "height": 139
        },
        "outputId": "b4cf6fed-fec0-4b9d-bc35-9f441fa89bc8"
      },
      "source": [
        "# Quiz 4\n",
        "# retrieve the road network and demand inputs\n",
        "!rm -rf traffic_inputs && mkdir traffic_inputs\n",
        "!wget \"https://raw.githubusercontent.com/UCB-CE170a/Fall2020/master/traffic_data/north_berkeley_edges_clean.csv\" -O traffic_inputs/berkeley_edges.csv\n",
        "print('Please update `quiz3_yourname.csv` under the `traffic_inputs` folder')"
      ],
      "execution_count": 1,
      "outputs": [
        {
          "output_type": "stream",
          "text": [
            "--2020-09-16 21:22:11--  https://raw.githubusercontent.com/UCB-CE170a/Fall2020/master/traffic_data/north_berkeley_edges_clean.csv\n",
            "Resolving raw.githubusercontent.com (raw.githubusercontent.com)... 151.101.0.133, 151.101.64.133, 151.101.128.133, ...\n",
            "Connecting to raw.githubusercontent.com (raw.githubusercontent.com)|151.101.0.133|:443... connected.\n",
            "HTTP request sent, awaiting response... 404 Not Found\n",
            "2020-09-16 21:22:11 ERROR 404: Not Found.\n",
            "\n",
            "Please update `quiz3_yourname.csv` under the `traffic_inputs` folder\n"
          ],
          "name": "stdout"
        }
      ]
    },
    {
      "cell_type": "markdown",
      "metadata": {
        "colab_type": "text",
        "id": "uQoXh40Hb1zG"
      },
      "source": [
        "Refresh the files tab and see if you see `berkeley_edges.csv` under `traffic_inputs`. Now, upload your results from Quiz 3 under the `traffic_inputs` folder as well."
      ]
    },
    {
      "cell_type": "code",
      "metadata": {
        "colab_type": "code",
        "id": "za_PZ5O9cXDZ",
        "colab": {}
      },
      "source": [
        "import pandas as pd"
      ],
      "execution_count": null,
      "outputs": []
    },
    {
      "cell_type": "code",
      "metadata": {
        "colab_type": "code",
        "id": "ARp8o_VbcF5e",
        "colab": {}
      },
      "source": [
        "your_name=''\n",
        "link_volume_file = 'traffic_inputs/quiz3_{}.csv'.format(your_name) ### name of your output file from Quiz 3\n",
        "\n",
        "link_volume_df = pd.read_csv(link_volume_file)\n",
        "display(link_volume_df.head(2))\n",
        "\n",
        "link_geometry_df = pd.read_csv('traffic_inputs/berkeley_edges.csv')\n",
        "link_geometry_df = link_geometry_df[['link_id', 'geometry']]\n",
        "\n",
        "link_volume_geometry_df = pd.merge(link_volume_df, link_geometry_df, how='left', on='link_id')\n",
        "display(link_volume_geometry_df.head(2))\n",
        "link_volume_geometry_df.to_csv('quiz4_{}.csv'.format(your_name), index=False)"
      ],
      "execution_count": null,
      "outputs": []
    },
    {
      "cell_type": "markdown",
      "metadata": {
        "colab_type": "text",
        "id": "ImEuasXKe_Yw"
      },
      "source": [
        "Now, visualize the results above in QGIS."
      ]
    }
  ]
}