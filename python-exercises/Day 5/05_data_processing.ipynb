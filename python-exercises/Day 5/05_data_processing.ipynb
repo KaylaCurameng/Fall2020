{
 "cells": [
  {
   "cell_type": "markdown",
   "metadata": {},
   "source": [
    "# Introduction\n",
    "Infrastructures nowadays are generating data at such a rapid rate and great volume that it is sometimes impossible to handle them in traditional ways. Fortunately, programming tools such Python include many powerful libraries that can assist the data wrangling process.\n",
    "\n",
    "In this exercise, you will learn to read and analyze tabular and tree-structured data. Both of which are among the most popular types of inputs you will get for your work or research. Specifically, we will show how to handle `.csv`-like files using the Pandas library (https://pandas.pydata.org/) and perform tasks such as imputing missing data, looping through each row and merging two tables. The Pandas library also works well with other tabular data sources, such as the popular `.xlsx` file. On the other hand, Python can also work with semi-structured tree-like data (e.g., `.json` or `.xml`) using standard libraries (https://docs.python.org/3/library/). Pandas is not a Python standard library, thus it usually requires installation. The `json` and `xml` libaries are included in the Python standard libraries and do not require additional installation.\n",
    "\n",
    "Even though tools such as Pandas is handy and efficient, it should be noted that data processing (cleaning, merging, validation, etc.), or sometimes even making sense of the data, can still take the majority of the time in an infrastructure analysis project."
   ]
  },
  {
   "cell_type": "markdown",
   "metadata": {},
   "source": [
    "# Tabular data (.csv, .xlsx)\n",
    "You are probably familiar with tabular data by using tools such as MS Excel or Google Spreadsheets. If we view each row as a separate record (e.g., the three rows in the table below represent three separate roads), then all records share the same set of attributes, (e.g., all roads have five attributes: ID, name, direction, start_intersection, end_intersection). Because of this highly structured format, there is no need to store the name of attributes for each record, which saves a lot of space for large data files compared to `.json` or `.xml` file that will be introduced later.\n",
    "\n",
    "\n",
    "| ID | name          | direction      | start_intersection | end_intersection |\n",
    "|----|---------------|----------------|--------------------|------------------|\n",
    "| 1  | Hearst Avenue | East to West   | La Loma Avenue     | Oxford Street    |\n",
    "| 2  | Hearst Avenue | West to East   | Oxford Street      | La Loma Avenue   |\n",
    "| 3  | Euclid Avenue | South to North | Hearst Avenue      | Marin Avenue     |\n",
    "\n",
    "* Note: the two directions of the same road between two common intersections are usually regarded as separate road links in traffic analysis."
   ]
  },
  {
   "cell_type": "markdown",
   "metadata": {},
   "source": [
    "## Reading data\n",
    "In the folder of today's exercise, we provided an example `hearst_euclid.csv` file, which contains some information of the two streets on the Northside of the Berkeley campus. Feel free to download it and open in text editor or Excel for this exercise. Now, let's read the same file into a Pandas dataframe."
   ]
  },
  {
   "cell_type": "code",
   "execution_count": 1,
   "metadata": {},
   "outputs": [
    {
     "data": {
      "text/html": [
       "<div>\n",
       "<style scoped>\n",
       "    .dataframe tbody tr th:only-of-type {\n",
       "        vertical-align: middle;\n",
       "    }\n",
       "\n",
       "    .dataframe tbody tr th {\n",
       "        vertical-align: top;\n",
       "    }\n",
       "\n",
       "    .dataframe thead th {\n",
       "        text-align: right;\n",
       "    }\n",
       "</style>\n",
       "<table border=\"1\" class=\"dataframe\">\n",
       "  <thead>\n",
       "    <tr style=\"text-align: right;\">\n",
       "      <th></th>\n",
       "      <th>start_igraph</th>\n",
       "      <th>end_igraph</th>\n",
       "      <th>road_name</th>\n",
       "      <th>direction</th>\n",
       "    </tr>\n",
       "  </thead>\n",
       "  <tbody>\n",
       "    <tr>\n",
       "      <th>0</th>\n",
       "      <td>1633</td>\n",
       "      <td>1631</td>\n",
       "      <td>Hearst_Ave</td>\n",
       "      <td>Eastward</td>\n",
       "    </tr>\n",
       "    <tr>\n",
       "      <th>1</th>\n",
       "      <td>1631</td>\n",
       "      <td>4552</td>\n",
       "      <td>Hearst_Ave</td>\n",
       "      <td>Eastward</td>\n",
       "    </tr>\n",
       "    <tr>\n",
       "      <th>2</th>\n",
       "      <td>4552</td>\n",
       "      <td>1240</td>\n",
       "      <td>Hearst_Ave</td>\n",
       "      <td>Eastward</td>\n",
       "    </tr>\n",
       "    <tr>\n",
       "      <th>3</th>\n",
       "      <td>1240</td>\n",
       "      <td>12798</td>\n",
       "      <td>Hearst_Ave</td>\n",
       "      <td>Eastward</td>\n",
       "    </tr>\n",
       "    <tr>\n",
       "      <th>4</th>\n",
       "      <td>12798</td>\n",
       "      <td>1630</td>\n",
       "      <td>Hearst_Ave</td>\n",
       "      <td>Eastward</td>\n",
       "    </tr>\n",
       "  </tbody>\n",
       "</table>\n",
       "</div>"
      ],
      "text/plain": [
       "   start_igraph  end_igraph   road_name direction\n",
       "0          1633        1631  Hearst_Ave  Eastward\n",
       "1          1631        4552  Hearst_Ave  Eastward\n",
       "2          4552        1240  Hearst_Ave  Eastward\n",
       "3          1240       12798  Hearst_Ave  Eastward\n",
       "4         12798        1630  Hearst_Ave  Eastward"
      ]
     },
     "execution_count": 1,
     "metadata": {},
     "output_type": "execute_result"
    }
   ],
   "source": [
    "# import the pandas library\n",
    "import pandas as pd \n",
    "\n",
    "# read the csv file by file name\n",
    "df = pd.read_csv('hearst_euclid.csv')\n",
    "\n",
    "# print the first few lines of the data\n",
    "df.head()"
   ]
  },
  {
   "cell_type": "markdown",
   "metadata": {},
   "source": [
    "## Exploration: shape and unique\n",
    "Now let's do some basic exploration:\n",
    "- How many rows/columns are there in the data?\n",
    "- How many different roads are in the data?\n",
    "\n",
    "Previously, we have read the csv file into the `df` variable, where `df` is short for `dataframe` (think dataframe like an excel table, or the two-dimensional array data frame in software `R`). You can name the variable whatever you like, but `df` is typical for variables that are pandas dataframes.\n",
    "\n",
    "Each pandas dataframe object has the `shape` property, which can be accessed using syntax such as `df.shape`. The first element of the `shape` property is the number of rows in the dataframe, and the second element is the number of columns.\n",
    "\n",
    "To focus on a particular column in a dataframe (which is called a `series`), you can access it using `df[column_name]`. Series has a method called `unique()` that returns the unique values in that column. Notice the `()` after the method, which is not there if we want to access properties such as `shape`.\n",
    "\n",
    "As you will soon find out, our data has two roads and each road has two directions. However, for each road-direction, the road is further broken down into smaller segments, thus the total number of records are larger than four."
   ]
  },
  {
   "cell_type": "code",
   "execution_count": 2,
   "metadata": {},
   "outputs": [
    {
     "name": "stdout",
     "output_type": "stream",
     "text": [
      "# rows and columns (79, 4)\n",
      "Unique roads:  ['Hearst_Ave' 'Euclid_Ave']\n"
     ]
    }
   ],
   "source": [
    "# print the numbers of rows and columns in the data\n",
    "print( '# rows and columns', df.shape )\n",
    "\n",
    "# print the names of unique roads in the data\n",
    "print( 'Unique roads: ', df['road_name'].unique() )"
   ]
  },
  {
   "cell_type": "markdown",
   "metadata": {},
   "source": [
    "## Selecting data\n",
    "Sometimes, you may want to choose a subset of the data to work with. In this case, you will need to select the data based on some criteria (e.g, give me the `n`-th row or give me all records whose `name` is `Hearst_Ave`). Index in Pandas (as well as in Python) is 0-based, meaning the row id of the first record is 0, the row id of the second record is 1, and so forth. Selecting data in pandas is usually performed by `df.loc[]` (label based) or `df.iloc[]` (integer position based). Or use `df[column_name]` is also handy to retrieve a certain column in the dataframe. We will explain how to use them in the exercise below.\n",
    "\n",
    "If you want to index the data in other ways than introduced below, this page provides further information https://pandas.pydata.org/pandas-docs/stable/user_guide/indexing.html"
   ]
  },
  {
   "cell_type": "code",
   "execution_count": 3,
   "metadata": {},
   "outputs": [
    {
     "data": {
      "text/html": [
       "<div>\n",
       "<style scoped>\n",
       "    .dataframe tbody tr th:only-of-type {\n",
       "        vertical-align: middle;\n",
       "    }\n",
       "\n",
       "    .dataframe tbody tr th {\n",
       "        vertical-align: top;\n",
       "    }\n",
       "\n",
       "    .dataframe thead th {\n",
       "        text-align: right;\n",
       "    }\n",
       "</style>\n",
       "<table border=\"1\" class=\"dataframe\">\n",
       "  <thead>\n",
       "    <tr style=\"text-align: right;\">\n",
       "      <th></th>\n",
       "      <th>start_igraph</th>\n",
       "      <th>end_igraph</th>\n",
       "      <th>road_name</th>\n",
       "      <th>direction</th>\n",
       "    </tr>\n",
       "  </thead>\n",
       "  <tbody>\n",
       "    <tr>\n",
       "      <th>0</th>\n",
       "      <td>1633</td>\n",
       "      <td>1631</td>\n",
       "      <td>Hearst_Ave</td>\n",
       "      <td>Eastward</td>\n",
       "    </tr>\n",
       "  </tbody>\n",
       "</table>\n",
       "</div>"
      ],
      "text/plain": [
       "   start_igraph  end_igraph   road_name direction\n",
       "0          1633        1631  Hearst_Ave  Eastward"
      ]
     },
     "metadata": {},
     "output_type": "display_data"
    },
    {
     "data": {
      "text/html": [
       "<div>\n",
       "<style scoped>\n",
       "    .dataframe tbody tr th:only-of-type {\n",
       "        vertical-align: middle;\n",
       "    }\n",
       "\n",
       "    .dataframe tbody tr th {\n",
       "        vertical-align: top;\n",
       "    }\n",
       "\n",
       "    .dataframe thead th {\n",
       "        text-align: right;\n",
       "    }\n",
       "</style>\n",
       "<table border=\"1\" class=\"dataframe\">\n",
       "  <thead>\n",
       "    <tr style=\"text-align: right;\">\n",
       "      <th></th>\n",
       "      <th>start_igraph</th>\n",
       "      <th>end_igraph</th>\n",
       "      <th>road_name</th>\n",
       "      <th>direction</th>\n",
       "    </tr>\n",
       "  </thead>\n",
       "  <tbody>\n",
       "    <tr>\n",
       "      <th>9</th>\n",
       "      <td>1626</td>\n",
       "      <td>1623</td>\n",
       "      <td>Hearst_Ave</td>\n",
       "      <td>Eastward</td>\n",
       "    </tr>\n",
       "  </tbody>\n",
       "</table>\n",
       "</div>"
      ],
      "text/plain": [
       "   start_igraph  end_igraph   road_name direction\n",
       "9          1626        1623  Hearst_Ave  Eastward"
      ]
     },
     "metadata": {},
     "output_type": "display_data"
    },
    {
     "data": {
      "text/plain": [
       "1633"
      ]
     },
     "metadata": {},
     "output_type": "display_data"
    },
    {
     "data": {
      "text/plain": [
       "'Euclid_Ave'"
      ]
     },
     "metadata": {},
     "output_type": "display_data"
    },
    {
     "data": {
      "text/html": [
       "<div>\n",
       "<style scoped>\n",
       "    .dataframe tbody tr th:only-of-type {\n",
       "        vertical-align: middle;\n",
       "    }\n",
       "\n",
       "    .dataframe tbody tr th {\n",
       "        vertical-align: top;\n",
       "    }\n",
       "\n",
       "    .dataframe thead th {\n",
       "        text-align: right;\n",
       "    }\n",
       "</style>\n",
       "<table border=\"1\" class=\"dataframe\">\n",
       "  <thead>\n",
       "    <tr style=\"text-align: right;\">\n",
       "      <th></th>\n",
       "      <th>start_igraph</th>\n",
       "      <th>end_igraph</th>\n",
       "      <th>road_name</th>\n",
       "      <th>direction</th>\n",
       "    </tr>\n",
       "  </thead>\n",
       "  <tbody>\n",
       "    <tr>\n",
       "      <th>41</th>\n",
       "      <td>2163</td>\n",
       "      <td>13700</td>\n",
       "      <td>Euclid_Ave</td>\n",
       "      <td>Southward</td>\n",
       "    </tr>\n",
       "    <tr>\n",
       "      <th>42</th>\n",
       "      <td>13700</td>\n",
       "      <td>5827</td>\n",
       "      <td>Euclid_Ave</td>\n",
       "      <td>Southward</td>\n",
       "    </tr>\n",
       "  </tbody>\n",
       "</table>\n",
       "</div>"
      ],
      "text/plain": [
       "    start_igraph  end_igraph   road_name  direction\n",
       "41          2163       13700  Euclid_Ave  Southward\n",
       "42         13700        5827  Euclid_Ave  Southward"
      ]
     },
     "metadata": {},
     "output_type": "display_data"
    },
    {
     "data": {
      "text/html": [
       "<div>\n",
       "<style scoped>\n",
       "    .dataframe tbody tr th:only-of-type {\n",
       "        vertical-align: middle;\n",
       "    }\n",
       "\n",
       "    .dataframe tbody tr th {\n",
       "        vertical-align: top;\n",
       "    }\n",
       "\n",
       "    .dataframe thead th {\n",
       "        text-align: right;\n",
       "    }\n",
       "</style>\n",
       "<table border=\"1\" class=\"dataframe\">\n",
       "  <thead>\n",
       "    <tr style=\"text-align: right;\">\n",
       "      <th></th>\n",
       "      <th>start_igraph</th>\n",
       "      <th>road_name</th>\n",
       "      <th>direction</th>\n",
       "    </tr>\n",
       "  </thead>\n",
       "  <tbody>\n",
       "    <tr>\n",
       "      <th>0</th>\n",
       "      <td>1633</td>\n",
       "      <td>Hearst_Ave</td>\n",
       "      <td>Eastward</td>\n",
       "    </tr>\n",
       "    <tr>\n",
       "      <th>1</th>\n",
       "      <td>1631</td>\n",
       "      <td>Hearst_Ave</td>\n",
       "      <td>Eastward</td>\n",
       "    </tr>\n",
       "  </tbody>\n",
       "</table>\n",
       "</div>"
      ],
      "text/plain": [
       "   start_igraph   road_name direction\n",
       "0          1633  Hearst_Ave  Eastward\n",
       "1          1631  Hearst_Ave  Eastward"
      ]
     },
     "metadata": {},
     "output_type": "display_data"
    }
   ],
   "source": [
    "# selecting a single row by row id: the 1st row\n",
    "display( df.iloc[0:1] ) ### based on index position\n",
    "\n",
    "# selecting a single row by row id: the 10th row\n",
    "display( df.iloc[9:10] )\n",
    "\n",
    "# selecting a single cell row and column id: the 1st column in the first row\n",
    "display( df.iloc[0,0] )\n",
    "\n",
    "# selecting a single cell based on row id and column name\n",
    "display( df['road_name'].iloc[41] )\n",
    "\n",
    "# selecting multiple rows by condition\n",
    "# since the subset of the data has many rows, let's just print the first two rows\n",
    "display( df.loc[ df['road_name']=='Euclid_Ave' ].head(2) )\n",
    "\n",
    "# selecting multiple columns by column name: use a list to specify all columns of interest\n",
    "display( df[ ['start_igraph', 'road_name', 'direction'] ].head(2) )"
   ]
  },
  {
   "cell_type": "markdown",
   "metadata": {},
   "source": [
    "## Looping through the data\n",
    "In the example data, there are two road names (`Hearst_Ave` and `Euclid_Ave`, while each road has two directions and multiple segments). We now want to create a new column, `road_and_direction`, which combines the first letter in the `road_name` column and `direction` column, e.g., `H_W` for the westward direction of Hearst avenue, or `E_S` for the southward direction of Euclid Avenue.\n",
    "\n",
    "There are different methods to apply the same function to each record in a dataframe. However, for beginners, it is easier to just think of this task as looping through each row of the dataframe (using `iterrows()` or `itertuples()`) and performing the same operations on each row. The performance is usually not worse than more sophisticated methods (unless you are doing simple algebra calculations, which can be vectorized and run much faster with NumPy, see https://engineering.upside.com/a-beginners-guide-to-optimizing-pandas-code-for-speed-c09ef2c6a4d6).\n",
    "\n",
    "We will introduce the `itertuples()` method here. It is typically used with a `for` loop. Inside the `for` loop, you can get the value under a specific column of the current row with `getattr()` method."
   ]
  },
  {
   "cell_type": "code",
   "execution_count": 4,
   "metadata": {},
   "outputs": [
    {
     "data": {
      "text/html": [
       "<div>\n",
       "<style scoped>\n",
       "    .dataframe tbody tr th:only-of-type {\n",
       "        vertical-align: middle;\n",
       "    }\n",
       "\n",
       "    .dataframe tbody tr th {\n",
       "        vertical-align: top;\n",
       "    }\n",
       "\n",
       "    .dataframe thead th {\n",
       "        text-align: right;\n",
       "    }\n",
       "</style>\n",
       "<table border=\"1\" class=\"dataframe\">\n",
       "  <thead>\n",
       "    <tr style=\"text-align: right;\">\n",
       "      <th></th>\n",
       "      <th>start_igraph</th>\n",
       "      <th>end_igraph</th>\n",
       "      <th>road_name</th>\n",
       "      <th>direction</th>\n",
       "      <th>road_and_direction</th>\n",
       "    </tr>\n",
       "  </thead>\n",
       "  <tbody>\n",
       "    <tr>\n",
       "      <th>0</th>\n",
       "      <td>1633</td>\n",
       "      <td>1631</td>\n",
       "      <td>Hearst_Ave</td>\n",
       "      <td>Eastward</td>\n",
       "      <td>H_E</td>\n",
       "    </tr>\n",
       "    <tr>\n",
       "      <th>1</th>\n",
       "      <td>1631</td>\n",
       "      <td>4552</td>\n",
       "      <td>Hearst_Ave</td>\n",
       "      <td>Eastward</td>\n",
       "      <td>H_E</td>\n",
       "    </tr>\n",
       "    <tr>\n",
       "      <th>50</th>\n",
       "      <td>1151</td>\n",
       "      <td>3441</td>\n",
       "      <td>Euclid_Ave</td>\n",
       "      <td>Southward</td>\n",
       "      <td>E_S</td>\n",
       "    </tr>\n",
       "    <tr>\n",
       "      <th>77</th>\n",
       "      <td>5827</td>\n",
       "      <td>13700</td>\n",
       "      <td>Euclid_Ave</td>\n",
       "      <td>Northward</td>\n",
       "      <td>E_N</td>\n",
       "    </tr>\n",
       "    <tr>\n",
       "      <th>78</th>\n",
       "      <td>13700</td>\n",
       "      <td>2163</td>\n",
       "      <td>Euclid_Ave</td>\n",
       "      <td>Northward</td>\n",
       "      <td>E_N</td>\n",
       "    </tr>\n",
       "  </tbody>\n",
       "</table>\n",
       "</div>"
      ],
      "text/plain": [
       "    start_igraph  end_igraph   road_name  direction road_and_direction\n",
       "0           1633        1631  Hearst_Ave   Eastward                H_E\n",
       "1           1631        4552  Hearst_Ave   Eastward                H_E\n",
       "50          1151        3441  Euclid_Ave  Southward                E_S\n",
       "77          5827       13700  Euclid_Ave  Northward                E_N\n",
       "78         13700        2163  Euclid_Ave  Northward                E_N"
      ]
     },
     "metadata": {},
     "output_type": "display_data"
    }
   ],
   "source": [
    "# first, create a new, empty list called `road_and_direction`\n",
    "# this is because usually we don't want to update the dataframe directy in a loop\n",
    "road_and_direction = []\n",
    "\n",
    "for row in df.itertuples():\n",
    "    \n",
    "    # get the first letter (remember, the index begins at 0 in Python) of the `road_name` column\n",
    "    r = getattr(row, 'road_name')[0]\n",
    "    d = getattr(row, 'direction')[0]\n",
    "    r_d = r + '_' + d ### you can concatenate strings with the `+` sign\n",
    "    road_and_direction.append( r_d )\n",
    "\n",
    "# create the road_and_direction column\n",
    "df['road_and_direction'] = road_and_direction\n",
    "\n",
    "# check results at random locations\n",
    "display(df.iloc[[0, 1, 50, -2, -1]])"
   ]
  },
  {
   "cell_type": "markdown",
   "metadata": {},
   "source": [
    "## Merging\n",
    "You may want to combine two tables into a same dataframe. For example, our table looks like\n",
    "\n",
    "|     | start_igraph  | end_igraph     | road_name   | direction   | road_and_direction |\n",
    "|-----|---------------|----------------|-------------|-------------|--------------------|\n",
    "| 1   | 1633          | 1631           | Hearst_Ave  | Eastward    | H_E                |\n",
    "| 2   | 1631          | 4552           | Hearst_Ave  | Eastward    | H_E                |\n",
    "| ..  | ..            | ..             | ..          | ..          | ..                 |\n",
    "\n",
    "\n",
    "We also have another csv file, which looks like\n",
    "\n",
    "|     | start_igraph  | end_igraph     | length | lanes   | maxmph | geometry| .. |\n",
    "|-----|---------------|----------------|--------|---------|--------|---------|----|\n",
    "| 1   | 1633          | 1631           | 33.77  | 1.0     | 25.0   |LINESTRING (-122.2553076 37.8756414,-122.2554844 37.875675,-122.2555776 37.8756766,-122.2556866 37.8756667)| .. |\n",
    "| 2   | 1631          | 4552           | 33.77  | 1.0     | 25.0   |LINESTRING (-122.2556866 37.8756667,-122.2555776 37.8756766,-122.2554844 37.875675,-122.2553076 37.8756414)| .. |\n",
    "| ..  | ..            | ..             | ..     | ..      | ..     |         | .. |\n",
    "\n",
    "Note that the two tables have two common column names, `start_igraph` and `end_igraph`. Actually, we also know (since we created the CSV files) that records with the same `start_igraph` and `end_igraph` refer to the same road segment in both CSV files. This makes it easier to combine the two tables into one dataframe. Specifically, we will use the `merge()` method to combine the tables. This (as well as many other pandas functions) works similarly to SQL commands if you are familiar with this database management language.\n",
    "\n",
    "We will learn how to obtain the second csv file during the 7th lecture (September 17).\n",
    "While you are working on the exercise below, try to answer the following questions:\n",
    "- What is the shape of the larger_df?\n",
    "- How many unique street it contains? Note: count unique streets\n",
    "- What do you see if you go to https://www.openstreetmap.org/node/53055204?\n",
    "- What do you see if you go to https://www.openstreetmap.org/way/698994084?\n",
    "- Can you use the above method to quickly locate any road/intersection on OpenStreetMap?"
   ]
  },
  {
   "cell_type": "code",
   "execution_count": 5,
   "metadata": {},
   "outputs": [
    {
     "data": {
      "text/html": [
       "<div>\n",
       "<style scoped>\n",
       "    .dataframe tbody tr th:only-of-type {\n",
       "        vertical-align: middle;\n",
       "    }\n",
       "\n",
       "    .dataframe tbody tr th {\n",
       "        vertical-align: top;\n",
       "    }\n",
       "\n",
       "    .dataframe thead th {\n",
       "        text-align: right;\n",
       "    }\n",
       "</style>\n",
       "<table border=\"1\" class=\"dataframe\">\n",
       "  <thead>\n",
       "    <tr style=\"text-align: right;\">\n",
       "      <th></th>\n",
       "      <th>edge_id_igraph</th>\n",
       "      <th>start_igraph</th>\n",
       "      <th>end_igraph</th>\n",
       "      <th>edge_osmid</th>\n",
       "      <th>start_osm</th>\n",
       "      <th>end_osm</th>\n",
       "      <th>length</th>\n",
       "      <th>lanes</th>\n",
       "      <th>maxmph</th>\n",
       "      <th>oneway</th>\n",
       "      <th>type</th>\n",
       "      <th>capacity</th>\n",
       "      <th>crossings_stops</th>\n",
       "      <th>traffic_signals</th>\n",
       "      <th>geometry</th>\n",
       "      <th>start_sp</th>\n",
       "      <th>end_sp</th>\n",
       "      <th>traffic_signals_delay</th>\n",
       "      <th>crossings_stops_delay</th>\n",
       "      <th>fft</th>\n",
       "    </tr>\n",
       "  </thead>\n",
       "  <tbody>\n",
       "    <tr>\n",
       "      <th>4184</th>\n",
       "      <td>4184</td>\n",
       "      <td>1631</td>\n",
       "      <td>1633</td>\n",
       "      <td>698994084</td>\n",
       "      <td>53055203</td>\n",
       "      <td>53055204</td>\n",
       "      <td>33.773753</td>\n",
       "      <td>1.0</td>\n",
       "      <td>25.0</td>\n",
       "      <td>no</td>\n",
       "      <td>residential</td>\n",
       "      <td>950.0</td>\n",
       "      <td>0</td>\n",
       "      <td>0</td>\n",
       "      <td>LINESTRING (-122.2556866 37.8756667,-122.25557...</td>\n",
       "      <td>1632</td>\n",
       "      <td>1634</td>\n",
       "      <td>0</td>\n",
       "      <td>0.0</td>\n",
       "      <td>3.626393</td>\n",
       "    </tr>\n",
       "    <tr>\n",
       "      <th>4188</th>\n",
       "      <td>4188</td>\n",
       "      <td>1633</td>\n",
       "      <td>1631</td>\n",
       "      <td>698994084</td>\n",
       "      <td>53055204</td>\n",
       "      <td>53055203</td>\n",
       "      <td>33.773753</td>\n",
       "      <td>1.0</td>\n",
       "      <td>25.0</td>\n",
       "      <td>no</td>\n",
       "      <td>residential</td>\n",
       "      <td>950.0</td>\n",
       "      <td>0</td>\n",
       "      <td>0</td>\n",
       "      <td>LINESTRING (-122.2553076 37.8756414,-122.25548...</td>\n",
       "      <td>1634</td>\n",
       "      <td>1632</td>\n",
       "      <td>0</td>\n",
       "      <td>0.0</td>\n",
       "      <td>3.626393</td>\n",
       "    </tr>\n",
       "  </tbody>\n",
       "</table>\n",
       "</div>"
      ],
      "text/plain": [
       "      edge_id_igraph  start_igraph  end_igraph edge_osmid  start_osm  \\\n",
       "4184            4184          1631        1633  698994084   53055203   \n",
       "4188            4188          1633        1631  698994084   53055204   \n",
       "\n",
       "       end_osm     length  lanes  maxmph oneway         type  capacity  \\\n",
       "4184  53055204  33.773753    1.0    25.0     no  residential     950.0   \n",
       "4188  53055203  33.773753    1.0    25.0     no  residential     950.0   \n",
       "\n",
       "      crossings_stops  traffic_signals  \\\n",
       "4184                0                0   \n",
       "4188                0                0   \n",
       "\n",
       "                                               geometry  start_sp  end_sp  \\\n",
       "4184  LINESTRING (-122.2556866 37.8756667,-122.25557...      1632    1634   \n",
       "4188  LINESTRING (-122.2553076 37.8756414,-122.25548...      1634    1632   \n",
       "\n",
       "      traffic_signals_delay  crossings_stops_delay       fft  \n",
       "4184                      0                    0.0  3.626393  \n",
       "4188                      0                    0.0  3.626393  "
      ]
     },
     "metadata": {},
     "output_type": "display_data"
    }
   ],
   "source": [
    "# read the csv file titled `berkeley_osm_edges.csv`, which has more information about the roads in Berkeley\n",
    "large_df = pd.read_csv('berkeley_osm_edges.csv')\n",
    "\n",
    "# check some records\n",
    "display( large_df.loc[ \n",
    "            (large_df['start_igraph'].isin([1633, 1631])) & \n",
    "            (large_df['end_igraph'].isin([1633, 1631]))] \n",
    "       )"
   ]
  },
  {
   "cell_type": "code",
   "execution_count": 6,
   "metadata": {},
   "outputs": [
    {
     "name": "stdout",
     "output_type": "stream",
     "text": [
      "(79, 23)\n"
     ]
    },
    {
     "data": {
      "text/html": [
       "<div>\n",
       "<style scoped>\n",
       "    .dataframe tbody tr th:only-of-type {\n",
       "        vertical-align: middle;\n",
       "    }\n",
       "\n",
       "    .dataframe tbody tr th {\n",
       "        vertical-align: top;\n",
       "    }\n",
       "\n",
       "    .dataframe thead th {\n",
       "        text-align: right;\n",
       "    }\n",
       "</style>\n",
       "<table border=\"1\" class=\"dataframe\">\n",
       "  <thead>\n",
       "    <tr style=\"text-align: right;\">\n",
       "      <th></th>\n",
       "      <th>start_igraph</th>\n",
       "      <th>end_igraph</th>\n",
       "      <th>road_name</th>\n",
       "      <th>direction</th>\n",
       "      <th>road_and_direction</th>\n",
       "      <th>edge_id_igraph</th>\n",
       "      <th>edge_osmid</th>\n",
       "      <th>start_osm</th>\n",
       "      <th>end_osm</th>\n",
       "      <th>length</th>\n",
       "      <th>...</th>\n",
       "      <th>type</th>\n",
       "      <th>capacity</th>\n",
       "      <th>crossings_stops</th>\n",
       "      <th>traffic_signals</th>\n",
       "      <th>geometry</th>\n",
       "      <th>start_sp</th>\n",
       "      <th>end_sp</th>\n",
       "      <th>traffic_signals_delay</th>\n",
       "      <th>crossings_stops_delay</th>\n",
       "      <th>fft</th>\n",
       "    </tr>\n",
       "  </thead>\n",
       "  <tbody>\n",
       "    <tr>\n",
       "      <th>0</th>\n",
       "      <td>1633</td>\n",
       "      <td>1631</td>\n",
       "      <td>Hearst_Ave</td>\n",
       "      <td>Eastward</td>\n",
       "      <td>H_E</td>\n",
       "      <td>4188</td>\n",
       "      <td>698994084</td>\n",
       "      <td>53055204</td>\n",
       "      <td>53055203</td>\n",
       "      <td>33.773753</td>\n",
       "      <td>...</td>\n",
       "      <td>residential</td>\n",
       "      <td>950.0</td>\n",
       "      <td>0</td>\n",
       "      <td>0</td>\n",
       "      <td>LINESTRING (-122.2553076 37.8756414,-122.25548...</td>\n",
       "      <td>1634</td>\n",
       "      <td>1632</td>\n",
       "      <td>0</td>\n",
       "      <td>0.0</td>\n",
       "      <td>3.626393</td>\n",
       "    </tr>\n",
       "    <tr>\n",
       "      <th>1</th>\n",
       "      <td>1631</td>\n",
       "      <td>4552</td>\n",
       "      <td>Hearst_Ave</td>\n",
       "      <td>Eastward</td>\n",
       "      <td>H_E</td>\n",
       "      <td>4185</td>\n",
       "      <td>21468137</td>\n",
       "      <td>53055203</td>\n",
       "      <td>260908845</td>\n",
       "      <td>74.875524</td>\n",
       "      <td>...</td>\n",
       "      <td>residential</td>\n",
       "      <td>950.0</td>\n",
       "      <td>1</td>\n",
       "      <td>0</td>\n",
       "      <td>LINESTRING (-122.2556866 37.8756667,-122.25577...</td>\n",
       "      <td>1632</td>\n",
       "      <td>4553</td>\n",
       "      <td>0</td>\n",
       "      <td>3.0</td>\n",
       "      <td>8.039619</td>\n",
       "    </tr>\n",
       "  </tbody>\n",
       "</table>\n",
       "<p>2 rows × 23 columns</p>\n",
       "</div>"
      ],
      "text/plain": [
       "   start_igraph  end_igraph   road_name direction road_and_direction  \\\n",
       "0          1633        1631  Hearst_Ave  Eastward                H_E   \n",
       "1          1631        4552  Hearst_Ave  Eastward                H_E   \n",
       "\n",
       "   edge_id_igraph edge_osmid  start_osm    end_osm     length  ...  \\\n",
       "0            4188  698994084   53055204   53055203  33.773753  ...   \n",
       "1            4185   21468137   53055203  260908845  74.875524  ...   \n",
       "\n",
       "          type  capacity crossings_stops traffic_signals  \\\n",
       "0  residential     950.0               0               0   \n",
       "1  residential     950.0               1               0   \n",
       "\n",
       "                                            geometry  start_sp  end_sp  \\\n",
       "0  LINESTRING (-122.2553076 37.8756414,-122.25548...      1634    1632   \n",
       "1  LINESTRING (-122.2556866 37.8756667,-122.25577...      1632    4553   \n",
       "\n",
       "  traffic_signals_delay  crossings_stops_delay       fft  \n",
       "0                     0                    0.0  3.626393  \n",
       "1                     0                    3.0  8.039619  \n",
       "\n",
       "[2 rows x 23 columns]"
      ]
     },
     "metadata": {},
     "output_type": "display_data"
    }
   ],
   "source": [
    "# combine the two dataframes into a new one called `df_expand`\n",
    "# only keep road segments that are inside `df`\n",
    "df_expand = df.merge( large_df, how='left', on=['start_igraph', 'end_igraph'] )\n",
    "\n",
    "print( df_expand.shape )\n",
    "\n",
    "display( df_expand.head(2) )"
   ]
  },
  {
   "cell_type": "markdown",
   "metadata": {},
   "source": [
    "## Grouping statistics\n",
    "Another useful operation in Pandas is to aggregate/group records with a common column value and calculate group statistics. In the exertice below, we will practice how to obtain\n",
    "- The total length of Hearst Avenue and Euclid Avenue (sum up the `length` of segments).\n",
    "- How many segments are there for each road and directionality?\n",
    "\n",
    "We will use the `groupby()` method for this exercise. For more approaches to aggredate data, you can refer to https://pandas.pydata.org/pandas-docs/stable/user_guide/groupby.html."
   ]
  },
  {
   "cell_type": "code",
   "execution_count": 7,
   "metadata": {},
   "outputs": [
    {
     "data": {
      "text/html": [
       "<div>\n",
       "<style scoped>\n",
       "    .dataframe tbody tr th:only-of-type {\n",
       "        vertical-align: middle;\n",
       "    }\n",
       "\n",
       "    .dataframe tbody tr th {\n",
       "        vertical-align: top;\n",
       "    }\n",
       "\n",
       "    .dataframe thead th {\n",
       "        text-align: right;\n",
       "    }\n",
       "</style>\n",
       "<table border=\"1\" class=\"dataframe\">\n",
       "  <thead>\n",
       "    <tr style=\"text-align: right;\">\n",
       "      <th></th>\n",
       "      <th>length</th>\n",
       "    </tr>\n",
       "    <tr>\n",
       "      <th>road_name</th>\n",
       "      <th></th>\n",
       "    </tr>\n",
       "  </thead>\n",
       "  <tbody>\n",
       "    <tr>\n",
       "      <th>Euclid_Ave</th>\n",
       "      <td>5339.836484</td>\n",
       "    </tr>\n",
       "    <tr>\n",
       "      <th>Hearst_Ave</th>\n",
       "      <td>4773.092716</td>\n",
       "    </tr>\n",
       "  </tbody>\n",
       "</table>\n",
       "</div>"
      ],
      "text/plain": [
       "                 length\n",
       "road_name              \n",
       "Euclid_Ave  5339.836484\n",
       "Hearst_Ave  4773.092716"
      ]
     },
     "metadata": {},
     "output_type": "display_data"
    },
    {
     "data": {
      "text/html": [
       "<div>\n",
       "<style scoped>\n",
       "    .dataframe tbody tr th:only-of-type {\n",
       "        vertical-align: middle;\n",
       "    }\n",
       "\n",
       "    .dataframe tbody tr th {\n",
       "        vertical-align: top;\n",
       "    }\n",
       "\n",
       "    .dataframe thead th {\n",
       "        text-align: right;\n",
       "    }\n",
       "</style>\n",
       "<table border=\"1\" class=\"dataframe\">\n",
       "  <thead>\n",
       "    <tr style=\"text-align: right;\">\n",
       "      <th></th>\n",
       "      <th></th>\n",
       "      <th>count</th>\n",
       "    </tr>\n",
       "    <tr>\n",
       "      <th>road_name</th>\n",
       "      <th>direction</th>\n",
       "      <th></th>\n",
       "    </tr>\n",
       "  </thead>\n",
       "  <tbody>\n",
       "    <tr>\n",
       "      <th rowspan=\"2\" valign=\"top\">Euclid_Ave</th>\n",
       "      <th>Northward</th>\n",
       "      <td>19</td>\n",
       "    </tr>\n",
       "    <tr>\n",
       "      <th>Southward</th>\n",
       "      <td>19</td>\n",
       "    </tr>\n",
       "    <tr>\n",
       "      <th rowspan=\"2\" valign=\"top\">Hearst_Ave</th>\n",
       "      <th>Eastward</th>\n",
       "      <td>21</td>\n",
       "    </tr>\n",
       "    <tr>\n",
       "      <th>Westward</th>\n",
       "      <td>20</td>\n",
       "    </tr>\n",
       "  </tbody>\n",
       "</table>\n",
       "</div>"
      ],
      "text/plain": [
       "                      count\n",
       "road_name  direction       \n",
       "Euclid_Ave Northward     19\n",
       "           Southward     19\n",
       "Hearst_Ave Eastward      21\n",
       "           Westward      20"
      ]
     },
     "metadata": {},
     "output_type": "display_data"
    }
   ],
   "source": [
    "# first, group the records based on `road_name` using the `groupby()` method\n",
    "# second, calculate the total `length` of each group using the `agg( )` method on the groupped result\n",
    "display( df_expand.groupby( 'road_name' ).agg( {'length': 'sum'} ) )\n",
    "\n",
    "# first, group the records that have the same `road_name` and `directionality` using the `groupby()` method\n",
    "# second, count the number of records in each group use the `size()` method on the groupped result\n",
    "# then, use `to_frame()` to give the count column a suitable name\n",
    "display( df_expand.groupby( ['road_name', 'direction'] ).size().to_frame( 'count' ) )"
   ]
  },
  {
   "cell_type": "markdown",
   "metadata": {},
   "source": [
    "## Saving files\n",
    "The dataframe can be saved to a CSV file, allowing you to work on it using other software (e.g., Excel, Kepler.gl)\n",
    "- Try dragging the data to https://kepler.gl/demo"
   ]
  },
  {
   "cell_type": "code",
   "execution_count": 8,
   "metadata": {},
   "outputs": [],
   "source": [
    "df_expand.to_csv('euclid_hearst_expand.csv', index=False)"
   ]
  },
  {
   "cell_type": "markdown",
   "metadata": {},
   "source": [
    "# Semi-structured data (.json, .xml, .geojson)\n",
    "JSON (`.json`, `.geojson`) and XML (`.xml`, `.kml`) are also common data file extensions. These types of files have a tree-like hierarchical structure. For example, below is the first few lines of a JSON file containing information of a road network downloaded from the OpenStreetMap's Overpass API (https://overpass-turbo.eu/):\n",
    "```\n",
    "{\n",
    "  \"version\": 0.6,\n",
    "  \"generator\": \"Overpass API\",\n",
    "  \"elements\": [road_1, road_2, ...],\n",
    "  ...\n",
    "}\n",
    "```\n",
    "\n",
    "In this section, we will learn some basic parsing of such data. Below are the raw road network data for North Berkeley. The extension is `.osm`, but it is still JSON-like. We will learn how to download such data from OpenStreetMaps in the 7th lecture on September 17.\n",
    "\n",
    "JSON files are read into Python as a dictionary. Try to print out each key (attribute) and value and see what is contained. Try to answer:\n",
    "- Which attribute contains the largest amount of information? Hint: check the type and length of values for each dictionary key."
   ]
  },
  {
   "cell_type": "code",
   "execution_count": 9,
   "metadata": {},
   "outputs": [
    {
     "name": "stdout",
     "output_type": "stream",
     "text": [
      "JSON file (target*.osm) is loaded into Python as:  <class 'dict'>\n",
      "JSON file has the following keys:  dict_keys(['version', 'generator', 'osm3s', 'elements']) \n",
      "\n",
      "The value of the 'version' key in the dictionary is:  0.6\n",
      "The value of the 'element' key in the dictionary has length:  6781 \n",
      "\n",
      "The first value of the 'element' key in the dictionary is:  {'type': 'node', 'id': 35718993, 'lat': 37.8795755, 'lon': -122.2217804}\n",
      "The last value of the 'element' key in the dictionary is:  {'type': 'way', 'id': 774602461, 'nodes': [7227017062, 4226533420, 53074450], 'tags': {'cycleway': 'shared_lane', 'highway': 'residential', 'lit': 'yes', 'maxspeed': '25 mph', 'name': 'Sonoma Avenue', 'sidewalk': 'both', 'surface': 'asphalt', 'tiger:cfcc': 'A41', 'tiger:county': 'Alameda, CA', 'tiger:name_base': 'Sonoma', 'tiger:name_type': 'Ave'}}\n"
     ]
    }
   ],
   "source": [
    "# we will handle the `.osm` file using the Python standard library `json`\n",
    "import json\n",
    "\n",
    "# read the file with `json.load( open(file_name) )`\n",
    "osm_data = json.load( open('target_north_berkeley.osm') )\n",
    "\n",
    "# exploration\n",
    "print( 'JSON file (target*.osm) is loaded into Python as: ', type( osm_data ) )\n",
    "print( 'JSON file has the following keys: ', osm_data.keys(), '\\n' )\n",
    "print( \"The value of the 'version' key in the dictionary is: \", osm_data['version'] )\n",
    "print( \"The value of the 'element' key in the dictionary has length: \", len(osm_data['elements']) , '\\n' )\n",
    "print( \"The first value of the 'element' key in the dictionary is: \", osm_data['elements'][0] )\n",
    "print( \"The last value of the 'element' key in the dictionary is: \", osm_data['elements'][-1] )"
   ]
  },
  {
   "cell_type": "markdown",
   "metadata": {},
   "source": [
    "## Extracting and re-organizing the data\n",
    "After playing around with it, you will possibly realize that the information contained under the 'element' key that we are interested in the most. This part of the data contains the road and intersection information that we need to build a road network. Now let's separate the roads (also known as links/edges/ways) and intersections (also known as nodes). Also, we would only like to keep the following information for roads and intersections:\n",
    "- Intersection: id, lat and lon\n",
    "- Road: id and road name\n",
    "\n",
    "Challenge: can you also extract the start and end coordinates of each road link?\n",
    "Hint: use dictionary lookup.\n",
    "\n",
    "Note: intersections are also called nodes. However, not all nodes in the `.osm` data are intersections. Some nodes that are not a real intersection (e.g., where streets intersect) are used to define the geometry position of, e.g., a curvature or a traffic signal."
   ]
  },
  {
   "cell_type": "code",
   "execution_count": 10,
   "metadata": {},
   "outputs": [
    {
     "name": "stdout",
     "output_type": "stream",
     "text": [
      "{'type': 'node', 'id': 35718993, 'lat': 37.8795755, 'lon': -122.2217804} \n",
      "\n",
      "The data contains 6187 nodes\n"
     ]
    }
   ],
   "source": [
    "### create an empty dictionary to hold node information\n",
    "all_nodes = {}\n",
    "\n",
    "# this is an example of a road node in the original data\n",
    "print( osm_data['elements'][0], '\\n' )\n",
    "\n",
    "### loop through the record and add new roads to the `all_nodes` dictionary\n",
    "for n in osm_data['elements']:\n",
    "    if n['type']=='node':\n",
    "        all_nodes[n['id']] = (n['lat'], n['lon'])\n",
    "print('The data contains {} nodes'.format(len(all_nodes)))"
   ]
  },
  {
   "cell_type": "code",
   "execution_count": 11,
   "metadata": {},
   "outputs": [
    {
     "name": "stdout",
     "output_type": "stream",
     "text": [
      "{'type': 'way', 'id': 774602461, 'nodes': [7227017062, 4226533420, 53074450], 'tags': {'cycleway': 'shared_lane', 'highway': 'residential', 'lit': 'yes', 'maxspeed': '25 mph', 'name': 'Sonoma Avenue', 'sidewalk': 'both', 'surface': 'asphalt', 'tiger:cfcc': 'A41', 'tiger:county': 'Alameda, CA', 'tiger:name_base': 'Sonoma', 'tiger:name_type': 'Ave'}} \n",
      "\n",
      "it includes 594 ways\n"
     ]
    }
   ],
   "source": [
    "### create an empty dictionary to hold road link information\n",
    "all_links = {}\n",
    "\n",
    "### this is an example of a road link in the original data\n",
    "print( osm_data['elements'][-1], '\\n')\n",
    "\n",
    "### loop through the record and add new links to the `all_links` dictionary\n",
    "for l in osm_data['elements']:\n",
    "    if (l['type']=='way'):\n",
    "        try:\n",
    "            all_links[l['id']] = (l['id'], l['tags']['name'])\n",
    "        except KeyError:\n",
    "            all_links[l['id']] = (l['id'], '')\n",
    "print('it includes {} ways'.format(len(all_links)))"
   ]
  },
  {
   "cell_type": "markdown",
   "metadata": {},
   "source": [
    "## Saving the data\n",
    "After parsing the JSON data, we would like to save our results to output files. These can be done using the `dump()` method. After this, try opening the output files in a text editor and see if the results are what you expect."
   ]
  },
  {
   "cell_type": "code",
   "execution_count": 12,
   "metadata": {},
   "outputs": [],
   "source": [
    "with open('nodes.json', 'w') as outfile:\n",
    "    json.dump(all_nodes, outfile, indent=2)\n",
    "\n",
    "with open('links.json', 'w') as outfile:\n",
    "    json.dump(all_links, outfile, indent=2)"
   ]
  },
  {
   "cell_type": "code",
   "execution_count": null,
   "metadata": {},
   "outputs": [],
   "source": []
  }
 ],
 "metadata": {
  "kernelspec": {
   "display_name": "Python 3",
   "language": "python",
   "name": "python3"
  },
  "language_info": {
   "codemirror_mode": {
    "name": "ipython",
    "version": 3
   },
   "file_extension": ".py",
   "mimetype": "text/x-python",
   "name": "python",
   "nbconvert_exporter": "python",
   "pygments_lexer": "ipython3",
   "version": "3.7.7"
  }
 },
 "nbformat": 4,
 "nbformat_minor": 4
}
