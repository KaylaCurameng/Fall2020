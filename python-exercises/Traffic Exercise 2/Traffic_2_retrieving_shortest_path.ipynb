{
  "nbformat": 4,
  "nbformat_minor": 0,
  "metadata": {
    "kernelspec": {
      "display_name": "Python 3",
      "language": "python",
      "name": "python3"
    },
    "language_info": {
      "codemirror_mode": {
        "name": "ipython",
        "version": 3
      },
      "file_extension": ".py",
      "mimetype": "text/x-python",
      "name": "python",
      "nbconvert_exporter": "python",
      "pygments_lexer": "ipython3",
      "version": "3.7.7"
    },
    "colab": {
      "name": "Traffic_2_retrieving_shortest_path.ipynb",
      "provenance": [],
      "toc_visible": true
    }
  },
  "cells": [
    {
      "cell_type": "markdown",
      "metadata": {
        "id": "7Hn_Ii1a1NBc",
        "colab_type": "text"
      },
      "source": [
        "# Shortest path\n",
        "In the last exercise, we showed how to retrieve the supply side inputs of a traffic model: the network. Apart from the supply inputs, traffic models also require the inputs about the travel demand, which is usually specified as origin-destination (OD) pairs. For example, given the OD list below, we know that the first trip starts from node 1 in the road network graph and ends at node 10, so on and so forth. The travel demand inputs are usually obtained based on land use information (e.g., numbers of residential and work units in each census tract). It is a sligthly complicated process that usually differs from projects to projects, so we will not introduce how we generate such data here. Instead, you will be provided with a ready-to-use demand file for your quiz and homework.\n",
        "\n",
        "| Trip_ID | start_node | end_node |\n",
        "|---------|------------|----------|\n",
        "| 1       | 1          | 10       |\n",
        "| 2       | 15         | 55       |\n",
        "| ..      | ..         | ..       |\n",
        "\n",
        "With the supply and demand inputs, traffic simulations can be performed by associating a trip (demands) to a set of road network links that it will use (a path) with a step called `traffic assignment`. There are multiple types of traffic assignments as discussed in the lecture, and you will be practicing coding the simplist one, the `all-or-nothing` assignment in the quiz today. In this exercise, we will prepare you for the quiz by showing how to compute for the shortest path given a trip's origin and destination."
      ]
    },
    {
      "cell_type": "markdown",
      "metadata": {
        "id": "qlJ2lemY1NBg",
        "colab_type": "text"
      },
      "source": [
        "## The `sp` module\n",
        "There are numerous python packages that can perform the shortest-path calculation, with the most notable ones being [NetworkX](https://networkx.github.io/) and [python-igraph](https://igraph.org/python/). There are multiple [shortest-path finding algorithms](https://en.wikipedia.org/wiki/Shortest_path_problem), while the [Dijkstra's Algorithm](https://en.wikipedia.org/wiki/Dijkstra%27s_algorithm) is the most generally applicable one. In this class, we will use a specially developed shortest path code, [sp](https://github.com/cb-cities/sp), which implements priority-queue based Dijkstra's Algorithm and has been tested to run more efficiently than other packages.\n",
        "\n",
        "** the [sp](https://github.com/cb-cities/sp) code is developed by Dr Krishna Kumar at UT Austin (formerly at the Soga group). It computes shortest path using Dijkstra's Algorithm efficiently. If your problem has special features, sometimes using other algorithm can give you even faster results.\n",
        "\n",
        "** the [sp](https://github.com/cb-cities/sp) code is written in C++ with a Python wrapper. Normally you would need to compile the code on your computer. Here on colab, we provide a compiled dynamic library `liblsp.so`."
      ]
    },
    {
      "cell_type": "code",
      "metadata": {
        "id": "N4xFo-Mb17Q1",
        "colab_type": "code",
        "colab": {}
      },
      "source": [
        "# install some python packages\n",
        "!pip install geopandas shapely folium\n",
        "\n",
        "# retrieve the sp code\n",
        "!rm -rf sp && mkdir sp\n",
        "!wget \"https://github.com/UCB-CE170a/Fall2020/raw/master/traffic_data/liblsp.so\" -O sp/liblsp.so\n",
        "!wget \"https://raw.githubusercontent.com/UCB-CE170a/Fall2020/master/traffic_data/interface.py\" -O sp/interface.py\n",
        "\n",
        "# retrieve the road network\n",
        "!rm -rf traffic_inputs && mkdir traffic_inputs\n",
        "!wget \"https://raw.githubusercontent.com/UCB-CE170a/Fall2020/master/traffic_data/north_berkeley_edges_clean.csv\" -O traffic_inputs/berkeley_edges.csv"
      ],
      "execution_count": null,
      "outputs": []
    },
    {
      "cell_type": "code",
      "metadata": {
        "id": "hhzBmZpX1NBj",
        "colab_type": "code",
        "colab": {}
      },
      "source": [
        "from sp import interface\n",
        "import pandas as pd"
      ],
      "execution_count": null,
      "outputs": []
    },
    {
      "cell_type": "code",
      "metadata": {
        "id": "V0UI6-aj1NB1",
        "colab_type": "code",
        "colab": {}
      },
      "source": [
        "# read edges file\n",
        "edges_df = pd.read_csv('traffic_inputs/berkeley_edges.csv')\n",
        "display( edges_df.head(2) )"
      ],
      "execution_count": null,
      "outputs": []
    },
    {
      "cell_type": "code",
      "metadata": {
        "id": "dljCVBWy1NCC",
        "colab_type": "code",
        "colab": {}
      },
      "source": [
        "# create a graph\n",
        "# supply the name of the edges dataframe, column name of the start node ID, end node ID and graph weights (free-flow travel time) column\n",
        "g = interface.from_dataframe(edges_df, 'start_node_id', 'end_node_id', 'fft')"
      ],
      "execution_count": null,
      "outputs": []
    },
    {
      "cell_type": "markdown",
      "metadata": {
        "id": "yeuWjyfU1NCM",
        "colab_type": "text"
      },
      "source": [
        "Let's get the path from the CEE department (North gate: osmid 53055202) to Cheeseboard Pizza (Shattuck Avenue and Vine Street: osmid 239617031)."
      ]
    },
    {
      "cell_type": "code",
      "metadata": {
        "id": "AdBuR5WB1NCN",
        "colab_type": "code",
        "colab": {}
      },
      "source": [
        "print( 'The node id of the start location is: ', edges_df.loc[edges_df['start_osmid']==53055202, 'start_node_id'].unique()[0] )\n",
        "print( 'The node id of the end location is: ', edges_df.loc[edges_df['end_osmid']=='239617031', 'end_node_id'].unique()[0] )"
      ],
      "execution_count": null,
      "outputs": []
    },
    {
      "cell_type": "code",
      "metadata": {
        "id": "yRC6yfy41NCY",
        "colab_type": "code",
        "colab": {}
      },
      "source": [
        "# get path\n",
        "def get_path(origin, destin):\n",
        "    sp = g.dijkstra(origin, destin)\n",
        "    sp_dist = sp.distance(destin)\n",
        "\n",
        "    if sp_dist > 10e7:\n",
        "        route = []\n",
        "    else:\n",
        "        route = [(start_sp, end_sp) for (start_sp, end_sp) in sp.route(destin)]\n",
        "    sp.clear()\n",
        "    \n",
        "    return route, sp_dist\n",
        "\n",
        "origin = 354 ### the origin node id of a trip\n",
        "destin = 196 ### the end node id of a trip\n",
        "route, distance = get_path(origin, destin) ### hint: use the provided function `get_path`.\n",
        "print('The trip travel time is {:.2f} minutes.'.format(distance/60))"
      ],
      "execution_count": null,
      "outputs": []
    },
    {
      "cell_type": "code",
      "metadata": {
        "id": "6j97eirD1NCg",
        "colab_type": "code",
        "colab": {}
      },
      "source": [
        "# visualize\n",
        "import geopandas as gpd\n",
        "from shapely.geometry import Point\n",
        "import shapely.wkt\n",
        "import folium\n",
        "\n",
        "one_path = pd.DataFrame(route, columns=['start_node_id', 'end_node_id']).merge(\n",
        "    edges_df[['start_node_id', 'end_node_id', 'geometry']])\n",
        "one_path_gdf = gpd.GeoDataFrame(one_path, crs='epsg:4326', geometry=one_path['geometry'].map(shapely.wkt.loads))\n",
        "one_path_json = one_path_gdf.to_json()\n",
        "\n",
        "start_json = one_path_gdf.iloc[0]['geometry'].coords[0]\n",
        "end_json = one_path_gdf.iloc[-1]['geometry'].coords[0]\n",
        "\n",
        "berkeley_map = folium.Map([37.88, -122.25], zoom_start=14)\n",
        "berkeley_map.add_child(folium.features.GeoJson(one_path_json))\n",
        "folium.Marker(list(start_json)[::-1], icon = folium.Icon(color='blue')).add_to(berkeley_map)\n",
        "folium.Marker(list(end_json)[::-1], icon = folium.Icon(color='red')).add_to(berkeley_map)\n",
        "berkeley_map"
      ],
      "execution_count": null,
      "outputs": []
    },
    {
      "cell_type": "code",
      "metadata": {
        "id": "7L10BTar1NCq",
        "colab_type": "code",
        "colab": {}
      },
      "source": [
        ""
      ],
      "execution_count": null,
      "outputs": []
    }
  ]
}