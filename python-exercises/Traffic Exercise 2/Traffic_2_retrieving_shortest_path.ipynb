{
 "cells": [
  {
   "cell_type": "markdown",
   "metadata": {},
   "source": [
    "# Shortest path\n",
    "In the last exercise, we showed how to retrieve the supply side inputs of a traffic model: the network. Apart from the supply inputs, traffic models also require the inputs about the travel demand, which is usually specified as origin-destination (OD) pairs. For example, given the OD list below, we know that the first trip starts from node 1 in the road network graph and ends at node 10, so on and so forth. The travel demand inputs are usually obtained based on land use information (e.g., numbers of residential and work units in each census tract). It is a sligthly complicated process that usually differs from projects to projects, so we will not introduce how we generate such data here. Instead, you will be provided with a ready-to-use demand file for your quiz and homework.\n",
    "\n",
    "| Trip_ID | start_node | end_node |\n",
    "|---------|------------|----------|\n",
    "| 1       | 1          | 10       |\n",
    "| 2       | 15         | 55       |\n",
    "| ..      | ..         | ..       |\n",
    "\n",
    "With the supply and demand inputs, traffic simulations can be performed by associating a trip (demands) to a set of road network links that it will use (a path) with a step called `traffic assignment`. There are multiple types of traffic assignments as discussed in the lecture, and you will be practicing coding the simplist one, the `all-or-nothing` assignment in the quiz today. In this exercise, we will prepare you for the quiz by showing how to compute for the shortest path given a trip's origin and destination."
   ]
  },
  {
   "cell_type": "markdown",
   "metadata": {},
   "source": [
    "## The `sp` module\n",
    "There are numerous python packages that can perform the shortest-path calculation, with the most notable ones being [NetworkX](https://networkx.github.io/) and [python-igraph](https://igraph.org/python/). There are multiple [shortest-path finding algorithms](https://en.wikipedia.org/wiki/Shortest_path_problem), while the [Dijkstra's Algorithm](https://en.wikipedia.org/wiki/Dijkstra%27s_algorithm) is the most generally applicable one. In this class, we will use a specially developed shortest path code, [sp](https://github.com/cb-cities/sp), which implements priority-queue based Dijkstra's Algorithm and has been tested to run more efficiently than other packages.\n",
    "\n",
    "* Disclaimer: the `sp` code is developed by Dr Krishna Kumar at UT Austin (formerly at the Soga group). It computes shortest path using Dijkstra's Algorithm efficiently. If your problem has special features, sometimes using other algorithm can give you even faster results."
   ]
  },
  {
   "cell_type": "code",
   "execution_count": 5,
   "metadata": {},
   "outputs": [],
   "source": [
    "import sys\n",
    "sys.path.insert(0, '/Users/bingyu/')\n",
    "from sp import interface\n",
    "import pandas as pd"
   ]
  },
  {
   "cell_type": "code",
   "execution_count": 8,
   "metadata": {},
   "outputs": [
    {
     "data": {
      "text/html": [
       "<div>\n",
       "<style scoped>\n",
       "    .dataframe tbody tr th:only-of-type {\n",
       "        vertical-align: middle;\n",
       "    }\n",
       "\n",
       "    .dataframe tbody tr th {\n",
       "        vertical-align: top;\n",
       "    }\n",
       "\n",
       "    .dataframe thead th {\n",
       "        text-align: right;\n",
       "    }\n",
       "</style>\n",
       "<table border=\"1\" class=\"dataframe\">\n",
       "  <thead>\n",
       "    <tr style=\"text-align: right;\">\n",
       "      <th></th>\n",
       "      <th>edge_id_igraph</th>\n",
       "      <th>start_igraph</th>\n",
       "      <th>end_igraph</th>\n",
       "      <th>edge_osmid</th>\n",
       "      <th>start_osm</th>\n",
       "      <th>end_osm</th>\n",
       "      <th>length</th>\n",
       "      <th>lanes</th>\n",
       "      <th>maxmph</th>\n",
       "      <th>oneway</th>\n",
       "      <th>type</th>\n",
       "      <th>capacity</th>\n",
       "      <th>crossings_stops</th>\n",
       "      <th>traffic_signals</th>\n",
       "      <th>geometry</th>\n",
       "      <th>start_sp</th>\n",
       "      <th>end_sp</th>\n",
       "      <th>traffic_signals_delay</th>\n",
       "      <th>crossings_stops_delay</th>\n",
       "      <th>fft</th>\n",
       "    </tr>\n",
       "  </thead>\n",
       "  <tbody>\n",
       "    <tr>\n",
       "      <th>0</th>\n",
       "      <td>0</td>\n",
       "      <td>0</td>\n",
       "      <td>2463</td>\n",
       "      <td>6397133</td>\n",
       "      <td>207716352</td>\n",
       "      <td>53024333</td>\n",
       "      <td>35.567710</td>\n",
       "      <td>1.0</td>\n",
       "      <td>25.0</td>\n",
       "      <td>no</td>\n",
       "      <td>tertiary</td>\n",
       "      <td>950.0</td>\n",
       "      <td>0</td>\n",
       "      <td>0</td>\n",
       "      <td>LINESTRING (-122.2145542 37.8256773,-122.21445...</td>\n",
       "      <td>1</td>\n",
       "      <td>2464</td>\n",
       "      <td>0</td>\n",
       "      <td>0.0</td>\n",
       "      <td>3.819016</td>\n",
       "    </tr>\n",
       "    <tr>\n",
       "      <th>1</th>\n",
       "      <td>1</td>\n",
       "      <td>0</td>\n",
       "      <td>3692</td>\n",
       "      <td>6397133</td>\n",
       "      <td>207716352</td>\n",
       "      <td>53092243</td>\n",
       "      <td>11.922711</td>\n",
       "      <td>1.0</td>\n",
       "      <td>25.0</td>\n",
       "      <td>no</td>\n",
       "      <td>tertiary</td>\n",
       "      <td>950.0</td>\n",
       "      <td>0</td>\n",
       "      <td>0</td>\n",
       "      <td>LINESTRING (-122.2145542 37.8256773,-122.21462...</td>\n",
       "      <td>1</td>\n",
       "      <td>3693</td>\n",
       "      <td>0</td>\n",
       "      <td>0.0</td>\n",
       "      <td>1.280179</td>\n",
       "    </tr>\n",
       "  </tbody>\n",
       "</table>\n",
       "</div>"
      ],
      "text/plain": [
       "   edge_id_igraph  start_igraph  end_igraph edge_osmid  start_osm   end_osm  \\\n",
       "0               0             0        2463    6397133  207716352  53024333   \n",
       "1               1             0        3692    6397133  207716352  53092243   \n",
       "\n",
       "      length  lanes  maxmph oneway      type  capacity  crossings_stops  \\\n",
       "0  35.567710    1.0    25.0     no  tertiary     950.0                0   \n",
       "1  11.922711    1.0    25.0     no  tertiary     950.0                0   \n",
       "\n",
       "   traffic_signals                                           geometry  \\\n",
       "0                0  LINESTRING (-122.2145542 37.8256773,-122.21445...   \n",
       "1                0  LINESTRING (-122.2145542 37.8256773,-122.21462...   \n",
       "\n",
       "   start_sp  end_sp  traffic_signals_delay  crossings_stops_delay       fft  \n",
       "0         1    2464                      0                    0.0  3.819016  \n",
       "1         1    3693                      0                    0.0  1.280179  "
      ]
     },
     "metadata": {},
     "output_type": "display_data"
    }
   ],
   "source": [
    "# read edges file\n",
    "edges_df = pd.read_csv('berkeley_osm_edges.csv')\n",
    "display( edges_df.head(2) )"
   ]
  },
  {
   "cell_type": "code",
   "execution_count": 10,
   "metadata": {},
   "outputs": [],
   "source": [
    "# create a graph\n",
    "# supply the name of the edges dataframe, column name of the start node ID, end node ID and graph weights (travel time) column\n",
    "g = interface.from_dataframe(edges_df, 'start_igraph', 'end_igraph', 'fft')"
   ]
  },
  {
   "cell_type": "markdown",
   "metadata": {},
   "source": [
    "Let's get the path from the CEE department (North gate: osmid 53055202) to Downtown Berkeley (Shattuck and Allston Way: osmid 259581502)."
   ]
  },
  {
   "cell_type": "code",
   "execution_count": 14,
   "metadata": {},
   "outputs": [
    {
     "name": "stdout",
     "output_type": "stream",
     "text": [
      "The node id of the start location is:  1630\n",
      "The node id of the end location is:  12105\n"
     ]
    }
   ],
   "source": [
    "print( 'The node id of the start location is: ', edges.loc[edges['start_osm']==53055202, 'start_igraph'].unique()[0] )\n",
    "print( 'The node id of the end location is: ', edges.loc[edges['end_osm']==259581502, 'end_igraph'].unique()[0] )"
   ]
  },
  {
   "cell_type": "code",
   "execution_count": 15,
   "metadata": {},
   "outputs": [],
   "source": [
    "# get path\n",
    "def get_path(origin, destin):\n",
    "    sp = g.dijkstra(origin, destin)\n",
    "    sp_dist = sp.distance(destin)\n",
    "\n",
    "    if sp_dist > 10e7:\n",
    "        route = []\n",
    "    else:\n",
    "        route = [(start_sp, end_sp) for (start_sp, end_sp) in sp.route(destin)]\n",
    "    sp.clear()\n",
    "    \n",
    "    return route\n",
    "\n",
    "origin = 1630 ### the origin node id of a trip\n",
    "destin = 12105 ### the end node id of a trip\n",
    "route = get_path(origin, destin) ### hint: use the provided function `get_path`."
   ]
  },
  {
   "cell_type": "code",
   "execution_count": 21,
   "metadata": {},
   "outputs": [
    {
     "data": {
      "text/html": [
       "<div style=\"width:100%;\"><div style=\"position:relative;width:100%;height:0;padding-bottom:60%;\"><span style=\"color:#565656\">Make this Notebook Trusted to load map: File -> Trust Notebook</span><iframe src=\"about:blank\" style=\"position:absolute;width:100%;height:100%;left:0;top:0;border:none !important;\" data-html=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 onload=\"this.contentDocument.open();this.contentDocument.write(atob(this.getAttribute('data-html')));this.contentDocument.close();\" allowfullscreen webkitallowfullscreen mozallowfullscreen></iframe></div></div>"
      ],
      "text/plain": [
       "<folium.folium.Map at 0x120c0db10>"
      ]
     },
     "execution_count": 21,
     "metadata": {},
     "output_type": "execute_result"
    }
   ],
   "source": [
    "# visualize\n",
    "import geopandas as gpd\n",
    "from shapely.geometry import Point\n",
    "import shapely.wkt\n",
    "import folium\n",
    "\n",
    "one_path = pd.DataFrame(route, columns=['start_igraph', 'end_igraph']).merge(\n",
    "    edges[['start_igraph', 'end_igraph', 'geometry']])\n",
    "one_path_gdf = gpd.GeoDataFrame(one_path, crs='epsg:4326', geometry=one_path['geometry'].map(shapely.wkt.loads))\n",
    "one_path_json = one_path_gdf.to_json()\n",
    "\n",
    "start_json = one_path_gdf.iloc[0]['geometry'].coords[0]\n",
    "end_json = one_path_gdf.iloc[-1]['geometry'].coords[0]\n",
    "\n",
    "berkeley_map = folium.Map([37.88, -122.25], zoom_start=14)\n",
    "berkeley_map.add_child(folium.features.GeoJson(one_path_json))\n",
    "folium.Marker(list(start_json)[::-1], icon = folium.Icon(color='blue')).add_to(berkeley_map)\n",
    "folium.Marker(list(end_json)[::-1], icon = folium.Icon(color='red')).add_to(berkeley_map)\n",
    "berkeley_map"
   ]
  },
  {
   "cell_type": "code",
   "execution_count": null,
   "metadata": {},
   "outputs": [],
   "source": []
  }
 ],
 "metadata": {
  "kernelspec": {
   "display_name": "Python 3",
   "language": "python",
   "name": "python3"
  },
  "language_info": {
   "codemirror_mode": {
    "name": "ipython",
    "version": 3
   },
   "file_extension": ".py",
   "mimetype": "text/x-python",
   "name": "python",
   "nbconvert_exporter": "python",
   "pygments_lexer": "ipython3",
   "version": "3.7.7"
  }
 },
 "nbformat": 4,
 "nbformat_minor": 4
}
